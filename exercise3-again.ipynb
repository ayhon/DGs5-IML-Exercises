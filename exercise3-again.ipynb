{
 "cells": [
  {
   "cell_type": "markdown",
   "metadata": {},
   "source": [
    "# 1 Introduction\n",
    "\n",
    "In this week's exercise session we will learn how to use Machine Learning methods to solve regression problems. In particular, we will focus on linear regression. \n",
    "\n",
    "First let us import the libraries we will be using during this exercise:"
   ]
  },
  {
   "cell_type": "code",
   "execution_count": 1,
   "metadata": {},
   "outputs": [],
   "source": [
    "# Useful starting lines\n",
    "%matplotlib inline\n",
    "import numpy as np\n",
    "np.random.seed(42)\n",
    "import matplotlib.pyplot as plt\n",
    "%load_ext autoreload\n",
    "%autoreload 2"
   ]
  },
  {
   "cell_type": "markdown",
   "metadata": {},
   "source": [
    "# 2 The regression problem\n",
    "\n",
    "We have seen in class that regression refers to predicting continous values for a given sample. A nice example could be predicting the first salary of a student after graduation given how diligent they were with attending machine learning exercise sessions. We were introduced to the \"linear regression method\". \n",
    "\n",
    "**Q: How does a regression problem differ from a classification problem?**\n",
    "\n",
    "**Q: Why is the linear regression model a linear model?**\n"
   ]
  },
  {
   "cell_type": "markdown",
   "metadata": {},
   "source": [
    "# 2.1 Load and inspect the data\n",
    "\n",
    "This week, using the linear regression method, we will analyze the Boston house prices data set and predict costs based on properties such as per capita crime rate by town, pupil-teacher ratio by town, etc.\n",
    "\n",
    "We load the data and split it such that 80% and 20% are training and test data, respectively. "
   ]
  },
  {
   "cell_type": "code",
   "execution_count": 2,
   "metadata": {},
   "outputs": [
    {
     "name": "stdout",
     "output_type": "stream",
     "text": [
      ".. _boston_dataset:\n",
      "\n",
      "Boston house prices dataset\n",
      "---------------------------\n",
      "\n",
      "**Data Set Characteristics:**  \n",
      "\n",
      "    :Number of Instances: 506 \n",
      "\n",
      "    :Number of Attributes: 13 numeric/categorical predictive. Median Value (attribute 14) is usually the target.\n",
      "\n",
      "    :Attribute Information (in order):\n",
      "        - CRIM     per capita crime rate by town\n",
      "        - ZN       proportion of residential land zoned for lots over 25,000 sq.ft.\n",
      "        - INDUS    proportion of non-retail business acres per town\n",
      "        - CHAS     Charles River dummy variable (= 1 if tract bounds river; 0 otherwise)\n",
      "        - NOX      nitric oxides concentration (parts per 10 million)\n",
      "        - RM       average number of rooms per dwelling\n",
      "        - AGE      proportion of owner-occupied units built prior to 1940\n",
      "        - DIS      weighted distances to five Boston employment centres\n",
      "        - RAD      index of accessibility to radial highways\n",
      "        - TAX      full-value property-tax rate per $10,000\n",
      "        - PTRATIO  pupil-teacher ratio by town\n",
      "        - B        1000(Bk - 0.63)^2 where Bk is the proportion of black people by town\n",
      "        - LSTAT    % lower status of the population\n",
      "        - MEDV     Median value of owner-occupied homes in $1000's\n",
      "\n",
      "    :Missing Attribute Values: None\n",
      "\n",
      "    :Creator: Harrison, D. and Rubinfeld, D.L.\n",
      "\n",
      "This is a copy of UCI ML housing dataset.\n",
      "https://archive.ics.uci.edu/ml/machine-learning-databases/housing/\n",
      "\n",
      "\n",
      "This dataset was taken from the StatLib library which is maintained at Carnegie Mellon University.\n",
      "\n",
      "The Boston house-price data of Harrison, D. and Rubinfeld, D.L. 'Hedonic\n",
      "prices and the demand for clean air', J. Environ. Economics & Management,\n",
      "vol.5, 81-102, 1978.   Used in Belsley, Kuh & Welsch, 'Regression diagnostics\n",
      "...', Wiley, 1980.   N.B. Various transformations are used in the table on\n",
      "pages 244-261 of the latter.\n",
      "\n",
      "The Boston house-price data has been used in many machine learning papers that address regression\n",
      "problems.   \n",
      "     \n",
      ".. topic:: References\n",
      "\n",
      "   - Belsley, Kuh & Welsch, 'Regression diagnostics: Identifying Influential Data and Sources of Collinearity', Wiley, 1980. 244-261.\n",
      "   - Quinlan,R. (1993). Combining Instance-Based and Model-Based Learning. In Proceedings on the Tenth International Conference of Machine Learning, 236-243, University of Massachusetts, Amherst. Morgan Kaufmann.\n",
      "\n"
     ]
    }
   ],
   "source": [
    "# get the data set and print a description\n",
    "from sklearn.datasets import load_boston\n",
    "boston_dataset = load_boston()\n",
    "print(boston_dataset.DESCR)"
   ]
  },
  {
   "cell_type": "code",
   "execution_count": 3,
   "metadata": {},
   "outputs": [
    {
     "name": "stdout",
     "output_type": "stream",
     "text": [
      "Shape of the data sample matrix X: (475, 12)\n",
      "The number of data samples is N: 475\n",
      "The number of features is D: 12\n",
      "\n",
      "Shape of the labels vector y: (475,)\n",
      "\n",
      "First data sample in X: [6.320e-03 1.800e+01 2.310e+00 5.380e-01 6.575e+00 6.520e+01 4.090e+00\n",
      " 1.000e+00 2.960e+02 1.530e+01 3.969e+02 4.980e+00]\n",
      "First label in y: 24.0\n"
     ]
    }
   ],
   "source": [
    "X = boston_dataset[\"data\"]\n",
    "y = boston_dataset[\"target\"]\n",
    "\n",
    "# remove categorical feature\n",
    "X = np.delete(X, 3, axis=1)\n",
    "# removing second mode\n",
    "ind = y<40\n",
    "X = X[ind,:]\n",
    "y = y[ind]\n",
    "\n",
    "print(\"Shape of the data sample matrix X:\", X.shape)\n",
    "\n",
    "N = X.shape[0]\n",
    "D = X.shape[1]\n",
    "print(\"The number of data samples is N:\", N)\n",
    "print(\"The number of features is D:\", D)\n",
    "\n",
    "\n",
    "print(\"\\nShape of the labels vector y:\", y.shape)\n",
    "\n",
    "\n",
    "print(\"\\nFirst data sample in X:\", X[0,:])\n",
    "print(\"First label in y:\", y[0])\n",
    "\n"
   ]
  },
  {
   "cell_type": "markdown",
   "metadata": {},
   "source": [
    "Our first exercise is to split the data into training and test sets. Let's set aside 80% of the data for training and 20% for testing. \n",
    "\n",
    "Your steps should be the following ones:\n",
    "1. Generate a vector of indices from 0 to N-1 (with N being the number of data samples) (Hint: you can use the function np.arange()\n",
    "2. Shuffle the indices (hint: you can use np.random.shuffle(). Look up how to use this function!)\n",
    "3. Select 80% of the indices. We have coded this for you but make sure you understand what these lines are doing!"
   ]
  },
  {
   "cell_type": "code",
   "execution_count": 7,
   "metadata": {},
   "outputs": [],
   "source": [
    "split_ratio = 0.8\n",
    "\n",
    "# Step 1:\n",
    "indices = np.arange(N)\n",
    "\n",
    "# Step 2:\n",
    "np.random.shuffle(indices)\n",
    "\n",
    "# Step 3:\n",
    "X_train    = X[indices[0:int(N*split_ratio)],:] \n",
    "y_train    = y[indices[0:int(N*split_ratio)]] \n",
    "# Split the test data using the remaining indices!\n",
    "X_test     = X[indices[int(N*split_ratio):],:]\n",
    "y_test     = y[indices[int(N*split_ratio):]]"
   ]
  },
  {
   "cell_type": "markdown",
   "metadata": {},
   "source": [
    "Check the shapes of `X_train`, `y_train`, `X_test`, `y_test`"
   ]
  },
  {
   "cell_type": "code",
   "execution_count": 8,
   "metadata": {},
   "outputs": [
    {
     "name": "stdout",
     "output_type": "stream",
     "text": [
      "(380, 12)\n",
      "(380,)\n",
      "(95, 12)\n",
      "(95,)\n"
     ]
    }
   ],
   "source": [
    "print(X_train.shape)\n",
    "print(y_train.shape)\n",
    "print(X_test.shape)\n",
    "print(y_test.shape)\n",
    "\n",
    "# The shapes should be (380, 12), (380,), (95, 12), (95,)"
   ]
  },
  {
   "cell_type": "markdown",
   "metadata": {},
   "source": [
    "After, we normalize the data such that each feature has zero mean and unit standard deviation. (Since you have not seen this in the lectures yet, we have provided the code for you. Study this well, we will be doing a lot of normalization during the exercise sessions!)"
   ]
  },
  {
   "cell_type": "code",
   "execution_count": 9,
   "metadata": {},
   "outputs": [],
   "source": [
    "'''\n",
    "Make mean 0 and std dev 1 of the data.\n",
    "'''\n",
    "def normalize(X):\n",
    "    mu    = np.mean(X,0,keepdims=True)\n",
    "    std   = np.std(X,0,keepdims=True) \n",
    "    X     = (X-mu)/std\n",
    "    return X, mu, std\n",
    "\n",
    "#Use train stats for normalizing test set\n",
    "X_train,mu_train,std_train = normalize(X_train)\n",
    "X_test = (X_test-mu_train)/std_train"
   ]
  },
  {
   "cell_type": "code",
   "execution_count": 10,
   "metadata": {},
   "outputs": [
    {
     "data": {
      "text/plain": [
       "Text(0.5, 1.0, 'Attribute $X_4$ vs Price $y$')"
      ]
     },
     "execution_count": 10,
     "metadata": {},
     "output_type": "execute_result"
    },
    {
     "data": {
      "image/png": "[encoded data removed]",
      "text/plain": [
       "<Figure size 432x288 with 1 Axes>"
      ]
     },
     "metadata": {
      "needs_background": "light"
     },
     "output_type": "display_data"
    }
   ],
   "source": [
    "# Exploratory analysis of the data. Have a look at the distribution of prices vs features\n",
    "\n",
    "feature = 4\n",
    "plt.scatter(X_train[:,feature], y_train)\n",
    "plt.xlabel(f\"Attribute $X_{feature}$\")\n",
    "plt.ylabel(\"Price $y$\")\n",
    "plt.title(f\"Attribute $X_{feature}$ vs Price $y$\")"
   ]
  },
  {
   "cell_type": "markdown",
   "metadata": {},
   "source": [
    "\n",
    "**Q: Using the code above, explore the relation between different features and the house prices. Describe what you see. Can you identify any trends?**\n"
   ]
  },
  {
   "cell_type": "markdown",
   "metadata": {},
   "source": [
    "# 2.2 Closed-form solution for linear regression\n",
    "\n",
    "\n",
    "The linear regression method has a closed form, analytical solution, as we have also seen in class.\n",
    "\n",
    "$$ \\mathbf{w^*} = (\\mathbf{X}^T\\mathbf{X})^{-1}\\mathbf{X}^T\\mathbf{y} $$\n",
    "\n",
    "\n",
    "Now let's code the analytical solution in the function `get_w_analytical` and to obtain the weight parameters $\\mathbf{w}$. Tip: You may want to use the function np.linalg.pinv(). \n"
   ]
  },
  {
   "cell_type": "code",
   "execution_count": 11,
   "metadata": {},
   "outputs": [],
   "source": [
    "def get_w_analytical(X_train,y_train):\n",
    "    \"\"\"\n",
    "    compute the weight parameters w\n",
    "    \"\"\"\n",
    "        \n",
    "    # compute w via the analytical solution\n",
    "    w = np.linalg.inv(X_train.T @ X_train) @ X_train.T @ y_train\n",
    "    return w\n"
   ]
  },
  {
   "cell_type": "markdown",
   "metadata": {},
   "source": [
    "To assess our method's performance, we'll be using the mean squared error (MSE). \n",
    "\n",
    "$$ MSE = \\frac{1}{N}\\sum_{i=1}^N (\\hat{y}_i - y_i)^2$$\n",
    "\n",
    "where our prediction $\\hat{y}_i = \\mathbf{x}_i^T \\cdot \\mathbf{w} $.\n",
    "\n",
    "\n",
    "\n",
    "Let's code this!"
   ]
  },
  {
   "cell_type": "code",
   "execution_count": 14,
   "metadata": {},
   "outputs": [],
   "source": [
    "\n",
    "def get_loss(w, X_train, y_train,X_test,y_test):\n",
    "    def mse(X,y):\n",
    "        w = get_w_analytical(X,y)\n",
    "        return np.mean((X @ w - y)**2)\n",
    "    \n",
    "    loss_train = mse(X_train, y_train)\n",
    "    loss_test = mse(X_test, y_test)\n",
    "    print(\"The training loss is {}. The test loss is {}.\".format(loss_train, loss_test))\n",
    "    \n",
    "    return loss_test"
   ]
  },
  {
   "cell_type": "code",
   "execution_count": 15,
   "metadata": {},
   "outputs": [
    {
     "name": "stdout",
     "output_type": "stream",
     "text": [
      "The training loss is 434.4825923742592. The test loss is 360.6559653650676.\n"
     ]
    },
    {
     "data": {
      "text/plain": [
       "360.6559653650676"
      ]
     },
     "execution_count": 15,
     "metadata": {},
     "output_type": "execute_result"
    }
   ],
   "source": [
    "#Let's test our code!\n",
    "w_ana = get_w_analytical(X_train,y_train)\n",
    "get_loss(w_ana, X_train,y_train, X_test,y_test)"
   ]
  },
  {
   "cell_type": "markdown",
   "metadata": {},
   "source": [
    "**Q: What is the shape of the analytical weights?**\n"
   ]
  },
  {
   "cell_type": "markdown",
   "metadata": {},
   "source": [
    "# 2.3. Adding a bias term"
   ]
  },
  {
   "cell_type": "markdown",
   "metadata": {},
   "source": [
    "The error of 400 is quite high! Note however that, in contrast to what we have seen in the lectures, we did not use any bias term $\\text{w}^{(0)}$. Let's see whether we can reduce the error by including a bias term.\n",
    "\n",
    "First, let's look more closely at what happens without a bias term. Formally, without a bias term, we are fitting a hyperplane that always passes through the origin. This is because our predictions can be expressed as\n",
    "$$ \\hat{y}_i = \\text{w}^{(1)}x_i^{(1)} +  \\text{w}^{(2)}x_i^{(2)} + ... + \\text{w}^{(12)}x_i^{(12)} $$\n",
    "\n",
    "or\n",
    "\n",
    "$$ \\hat{y}_i = \\mathbf{x}_i^T \\cdot \\mathbf{w} $$ \n",
    "\n",
    "Therefore, when $\\mathbf{x}_i=\\mathbf{0}$, $\\hat{y}_i= 0$, no matter what values $\\mathbf{w}$ takes. That's not ideal!\n",
    "\n",
    "Note: If you are confused about the transpose operation in $\\hat{y}_i = \\mathbf{x}_i^T \\cdot \\mathbf{w}$ above, here are the shapes of the matrices that are being multiplied:  \n",
    "* $\\mathbf{w}$ is DX1 \n",
    "* $\\mathbf{x}_i$ is DX1 (A reminder: The entire data $\\mathbf{X}$ is NXD, but when we select a single data sample from it, we express it as a column vector!) \n",
    "* The result $\\hat{y}_i$ is 1x1\n",
    "\n",
    "\n"
   ]
  },
  {
   "cell_type": "markdown",
   "metadata": {},
   "source": [
    "**Introducing the bias term:**\n",
    "        \n",
    "It would be a lot nicer if our predicted hyperplane didn't always have to pass through the origin. In math words:\n",
    "\n",
    "$$ \\hat{y}_i = \\text{w}^{(0)} + \\text{w}^{(1)}x_i^{(1)} +  \\text{w}^{(2)}x_i^{(2)} + ... + \\text{w}^{(12)}x_i^{(12)} $$\n",
    "\n",
    "Here, the $\\text{w}^{(0)}$ is the y-intercept. When $\\mathbf{x}_i=\\mathbf{0}$, $y_i= \\text{w}^{(0)}$. Neat!\n",
    "\n",
    "\n",
    "To handle this, we can add a column of 1s as a feature in our data $\\mathbf{X}$. This way, we could just say that the last feature $x_i^{(0)} = 1$ and\n",
    "\n",
    "$$ \\hat{y}_i = \\text{w}^{(0)}\\cdot 1 + \\text{w}^{(1)}x_i^{(1)} +  \\text{w}^{(2)}x_i^{(2)} + ... + \\text{w}^{(12)}x_i^{(12)} $$\n",
    "\n",
    "$$ \\hat{y}_i = \\text{w}^{(0)}x_i^{(0)} + \\text{w}^{(1)}x_i^{(1)} +  \\text{w}^{(2)}x_i^{(2)} + ... + \\text{w}^{(12)}x_i^{(12)} $$\n",
    "\n",
    "$$ \\hat{y}_i = \\mathbf{x}_i^T \\cdot \\mathbf{w} $$ \n",
    "\n",
    "\n",
    "\n",
    "\n",
    "\n",
    "And we can keep using the same analytical solution formula as above! So by adding a column of 1s as the last feature of $\\mathbf{X}$, and running the analytical solution, we will find a $\\mathbf{w}$ with 13 features instead of 12. The last feature of the weights $\\mathbf{w}^{(0)}$ will be the bias term. This way, we wouldn't have to change any of the functions we wrote above.\n",
    "\n",
    "So let's get to it! Fill in the function below to append a bias term to the data matrices $\\mathbf{X}$. Your steps should be the following:\n",
    "1. Create a numpy array that is a column of 1s. It's shape should be NX1.\n",
    "2. Concatenate the ones column with the data matrix. Hint: use np.concatenate. Be careful what axis you specify!\n",
    "\n",
    "\n"
   ]
  },
  {
   "cell_type": "code",
   "execution_count": 53,
   "metadata": {},
   "outputs": [],
   "source": [
    "def append_bias_term(X_train):\n",
    "\n",
    "    ones_column = np.ones((X_train.shape[0],1))\n",
    "    X_train_bias = np.concatenate((X_train, ones_column), axis = 1)\n",
    "    return X_train_bias"
   ]
  },
  {
   "cell_type": "code",
   "execution_count": 54,
   "metadata": {},
   "outputs": [
    {
     "name": "stdout",
     "output_type": "stream",
     "text": [
      "The training loss is 9.927412041848186. The test loss is 11.039240630718187.\n"
     ]
    },
    {
     "data": {
      "text/plain": [
       "11.039240630718187"
      ]
     },
     "execution_count": 54,
     "metadata": {},
     "output_type": "execute_result"
    }
   ],
   "source": [
    "X_train_bias = append_bias_term(X_train)\n",
    "X_test_bias = append_bias_term(X_test)\n",
    "\n",
    "w_ana = get_w_analytical(X_train_bias,y_train)\n",
    "\n",
    "get_loss(w_ana, X_train_bias,y_train, X_test_bias,y_test)"
   ]
  },
  {
   "cell_type": "markdown",
   "metadata": {},
   "source": [
    "Now your loss should be around 10. That's much better, no?"
   ]
  },
  {
   "cell_type": "markdown",
   "metadata": {},
   "source": [
    "# 2.4. Solution using gradient descent"
   ]
  },
  {
   "cell_type": "markdown",
   "metadata": {},
   "source": [
    "The linear regression model has an analytical solution, but we can also get the weight parameters $\\mathbf{w}$ numerically, e.g., via gradient descent. We will be using this approach to complete the function `get_w_numerical` below."
   ]
  },
  {
   "cell_type": "markdown",
   "metadata": {},
   "source": [
    "First, let us code the gradient of the MSE loss, as we saw in class:\n",
    "$$\\nabla R = \\frac{2}{N}\\sum_i^N(\\mathbf{x}_i^T \\mathbf{w}-y_i)\\cdot \\mathbf{x}_i$$"
   ]
  },
  {
   "cell_type": "code",
   "execution_count": 63,
   "metadata": {},
   "outputs": [],
   "source": [
    "def find_gradient(X, y, w):\n",
    "    \"\"\"computes the gradient of the empirical risk, R\"\"\"\n",
    "\n",
    "    N = X.shape[0]\n",
    "    \n",
    "    \n",
    "    # YOUR CODE HERE\n",
    "    grad = 2 * np.mean( (X @ w - y) @ X)\n",
    "    return grad\n",
    "    "
   ]
  },
  {
   "cell_type": "code",
   "execution_count": 64,
   "metadata": {},
   "outputs": [
    {
     "name": "stdout",
     "output_type": "stream",
     "text": [
      "()\n"
     ]
    }
   ],
   "source": [
    "#Let's create a random w to test the function above.\n",
    "w = np.random.normal(0, 1e-1, X_train_bias.shape[1])\n",
    "grad = find_gradient(X_train_bias, y_train, w)\n",
    "print(grad.shape)"
   ]
  },
  {
   "cell_type": "markdown",
   "metadata": {},
   "source": [
    "And now, we can write the function that finds $\\mathbf{w}$ using gradient descent. Recall that gradient descent works via the update\n",
    "$$w_{k} \\leftarrow w_{k-1} - \\eta \\nabla R$$\n",
    "\n",
    "where $\\eta$ is the learning rate and $k$ is the iteration number.\n",
    "\n",
    "Fill in the function below to update $\\mathbf{w}$."
   ]
  },
  {
   "cell_type": "code",
   "execution_count": 61,
   "metadata": {},
   "outputs": [],
   "source": [
    "def get_w_numerical(X_train,y_train,X_test,y_test,epochs,lr):\n",
    "    \"\"\"compute the weight parameters w\"\"\"\n",
    "    \n",
    "    # initialize the weights\n",
    "    w = np.random.normal(0, 1e-1, X_train.shape[1])\n",
    "    \n",
    "    # iterate a given number of epochs over the training data\n",
    "    for epoch in range(epochs):\n",
    "        \n",
    "        w -= lr * find_gradient(X_train, y_train, w)\n",
    "       \n",
    "        # Test every 500 epochs to see whether the training loss and test losses are going down.\n",
    "        if epoch % 500 == 0:\n",
    "            print(f\"\\nEpoch {1000+epoch}/{epochs}\")\n",
    "            get_loss(w, X_train,y_train, X_test,y_test)\n",
    "            \n",
    "    return w"
   ]
  },
  {
   "cell_type": "code",
   "execution_count": 62,
   "metadata": {},
   "outputs": [
    {
     "name": "stdout",
     "output_type": "stream",
     "text": [
      "\n",
      "Epoch 1000/15000\n",
      "The training loss is 9.927412041848186. The test loss is 11.039240630718187.\n",
      "\n",
      "Epoch 1500/15000\n",
      "The training loss is 9.927412041848186. The test loss is 11.039240630718187.\n",
      "\n",
      "Epoch 2000/15000\n",
      "The training loss is 9.927412041848186. The test loss is 11.039240630718187.\n",
      "\n",
      "Epoch 2500/15000\n",
      "The training loss is 9.927412041848186. The test loss is 11.039240630718187.\n",
      "\n",
      "Epoch 3000/15000\n",
      "The training loss is 9.927412041848186. The test loss is 11.039240630718187.\n",
      "\n",
      "Epoch 3500/15000\n",
      "The training loss is 9.927412041848186. The test loss is 11.039240630718187.\n",
      "\n",
      "Epoch 4000/15000\n",
      "The training loss is 9.927412041848186. The test loss is 11.039240630718187.\n",
      "\n",
      "Epoch 4500/15000\n",
      "The training loss is 9.927412041848186. The test loss is 11.039240630718187.\n",
      "\n",
      "Epoch 5000/15000\n",
      "The training loss is 9.927412041848186. The test loss is 11.039240630718187.\n",
      "\n",
      "Epoch 5500/15000\n",
      "The training loss is 9.927412041848186. The test loss is 11.039240630718187.\n",
      "\n",
      "Epoch 6000/15000\n",
      "The training loss is 9.927412041848186. The test loss is 11.039240630718187.\n",
      "\n",
      "Epoch 6500/15000\n",
      "The training loss is 9.927412041848186. The test loss is 11.039240630718187.\n",
      "\n",
      "Epoch 7000/15000\n",
      "The training loss is 9.927412041848186. The test loss is 11.039240630718187.\n",
      "\n",
      "Epoch 7500/15000\n",
      "The training loss is 9.927412041848186. The test loss is 11.039240630718187.\n",
      "\n",
      "Epoch 8000/15000\n",
      "The training loss is 9.927412041848186. The test loss is 11.039240630718187.\n",
      "\n",
      "Epoch 8500/15000\n",
      "The training loss is 9.927412041848186. The test loss is 11.039240630718187.\n",
      "\n",
      "Epoch 9000/15000\n",
      "The training loss is 9.927412041848186. The test loss is 11.039240630718187.\n",
      "\n",
      "Epoch 9500/15000\n",
      "The training loss is 9.927412041848186. The test loss is 11.039240630718187.\n",
      "\n",
      "Epoch 10000/15000\n",
      "The training loss is 9.927412041848186. The test loss is 11.039240630718187.\n",
      "\n",
      "Epoch 10500/15000\n",
      "The training loss is 9.927412041848186. The test loss is 11.039240630718187.\n",
      "\n",
      "Epoch 11000/15000\n",
      "The training loss is 9.927412041848186. The test loss is 11.039240630718187.\n",
      "\n",
      "Epoch 11500/15000\n",
      "The training loss is 9.927412041848186. The test loss is 11.039240630718187.\n",
      "\n",
      "Epoch 12000/15000\n",
      "The training loss is 9.927412041848186. The test loss is 11.039240630718187.\n",
      "\n",
      "Epoch 12500/15000\n",
      "The training loss is 9.927412041848186. The test loss is 11.039240630718187.\n",
      "\n",
      "Epoch 13000/15000\n",
      "The training loss is 9.927412041848186. The test loss is 11.039240630718187.\n",
      "\n",
      "Epoch 13500/15000\n",
      "The training loss is 9.927412041848186. The test loss is 11.039240630718187.\n",
      "\n",
      "Epoch 14000/15000\n",
      "The training loss is 9.927412041848186. The test loss is 11.039240630718187.\n",
      "\n",
      "Epoch 14500/15000\n",
      "The training loss is 9.927412041848186. The test loss is 11.039240630718187.\n",
      "\n",
      "Epoch 15000/15000\n",
      "The training loss is 9.927412041848186. The test loss is 11.039240630718187.\n",
      "\n",
      "Epoch 15500/15000\n",
      "The training loss is 9.927412041848186. The test loss is 11.039240630718187.\n"
     ]
    }
   ],
   "source": [
    "# compute w and calculate its performance\n",
    "w_num = get_w_numerical(X_train_bias,y_train,X_test_bias,y_test,15000,1e-3)"
   ]
  },
  {
   "cell_type": "markdown",
   "metadata": {},
   "source": [
    "If everything went well, then your loss should be going down with each epoch!"
   ]
  },
  {
   "cell_type": "markdown",
   "metadata": {},
   "source": [
    "\n",
    "**Q: How do these results compare to those of the analytical solution?**\n",
    "\n",
    "**Q: In which cases may it be preferable to use the numerical approach over the analytical solution?**\n"
   ]
  },
  {
   "cell_type": "markdown",
   "metadata": {},
   "source": [
    "# 2.5 Using sklearn\n"
   ]
  },
  {
   "cell_type": "markdown",
   "metadata": {},
   "source": [
    "We can also use the sklearn implementation of the linear regression model. sklearn is a library that contains implementations of many popular machine learning models, including the linear regression model!\n",
    "\n",
    "Please look up the [documentation](https://scikit-learn.org/stable/modules/generated/sklearn.linear_model.LinearRegression.html) to \n",
    "\n",
    "1. instantiate the LinearRegression model\n",
    "2. fit the model to our training data\n",
    "3. evaluate the model on the test data\n",
    "4. and compare the results with our previous outcomes\n",
    "\n",
    "Especially check out the example code they provide!"
   ]
  },
  {
   "cell_type": "code",
   "execution_count": 66,
   "metadata": {},
   "outputs": [
    {
     "name": "stdout",
     "output_type": "stream",
     "text": [
      "MSE of sklearn linear regression model on test data:  13.83670510143467\n"
     ]
    }
   ],
   "source": [
    "from sklearn.linear_model import LinearRegression\n",
    "from sklearn import metrics\n",
    "\n",
    "lr = LinearRegression()\n",
    "lr.fit(X_train, y_train)\n",
    "lr.score(X_test, y_test)\n",
    "y_hat = lr.predict(X_test)\n",
    "\n",
    "print('MSE of sklearn linear regression model on test data: ' , metrics.mean_squared_error(y_test,y_hat))"
   ]
  }
 ],
 "metadata": {
  "anaconda-cloud": {},
  "kernelspec": {
   "display_name": "Python 3 (ipykernel)",
   "language": "python",
   "name": "python3"
  },
  "language_info": {
   "codemirror_mode": {
    "name": "ipython",
    "version": 3
   },
   "file_extension": ".py",
   "mimetype": "text/x-python",
   "name": "python",
   "nbconvert_exporter": "python",
   "pygments_lexer": "ipython3",
   "version": "3.9.5"
  }
 },
 "nbformat": 4,
 "nbformat_minor": 4
}

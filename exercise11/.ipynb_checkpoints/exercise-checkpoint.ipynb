{
 "cells": [
  {
   "cell_type": "markdown",
   "metadata": {},
   "source": [
    "# Exercise: Convolutional Neural Networks\n",
    "$\\renewcommand{\\real}{\\mathbb{R}}$\n",
    "$\\renewcommand{\\xb}{\\mathbf{x}}$\n",
    "$\\renewcommand{\\yb}{\\mathbf{y}}$\n",
    "$\\renewcommand{\\zb}{\\mathbf{z}}$\n",
    "$\\renewcommand{\\wb}{\\mathbf{w}}$\n",
    "$\\renewcommand{\\Xb}{\\mathbf{X}}$\n",
    "$\\renewcommand{\\Lb}{\\mathbf{L}}$\n",
    "$\\DeclareMathOperator*{\\argmin}{argmin}$"
   ]
  },
  {
   "cell_type": "markdown",
   "metadata": {},
   "source": [
    "We will implement our own neural networks with PyTorch. \n",
    "\n",
    "\n",
    "## Dependencies\n",
    "\n",
    "Before you start, please make sure to install the following packages:\n",
    "\n",
    "**torch**: The framework we will use for training deep nets.\n",
    "\n",
    "**torchvision**: Helper package consisting of popular datasets, model architectures, and common image transformations for computer vision. We will use it for loading the MNIST dataset and to perform simple data transformations.\n",
    "\n",
    "**torchsummary**: Helper package for visualizing deep net architectures.\n",
    "\n",
    "Please use the following commands to install all the dependencies:\n",
    "\n",
    "`pip install torch torchvision torchsummary`\n",
    "\n",
    "`conda install -c conda-forge nomkl`"
   ]
  },
  {
   "cell_type": "code",
   "execution_count": 1,
   "metadata": {},
   "outputs": [],
   "source": [
    "# 3rd party\n",
    "import numpy as np\n",
    "import torch\n",
    "import torch.nn as nn\n",
    "import torch.nn.functional as F\n",
    "from torch.utils.data import DataLoader\n",
    "from torchvision.datasets import MNIST\n",
    "from torchvision.transforms import ToTensor, Lambda, Compose\n",
    "from torchsummary import summary\n",
    "import matplotlib.pyplot as plt\n",
    "from scipy.signal import convolve2d\n",
    "\n",
    "# Project files.\n",
    "from helpers import accuracy, visualize_convolution, load_blackwhite_image, DrawingPad"
   ]
  },
  {
   "cell_type": "code",
   "execution_count": 2,
   "metadata": {},
   "outputs": [],
   "source": [
    "%matplotlib notebook\n",
    "%load_ext autoreload\n",
    "%autoreload 2"
   ]
  },
  {
   "cell_type": "code",
   "execution_count": 3,
   "metadata": {},
   "outputs": [],
   "source": [
    "device = torch.device(('cpu', 'cuda')[torch.cuda.is_available()])"
   ]
  },
  {
   "cell_type": "markdown",
   "metadata": {},
   "source": [
    "## Part 1: PyTorch\n",
    "\n",
    "### 1.1: Motivation\n",
    "\n",
    "In the first part of the exercise we will revisit the MNIST dataset of hand-written digits, and we will train deep net models to classify the digits. Instead of doing all the hard coding work manually, we will simplify our life by using a deep learning framework: PyTorch.\n",
    "\n",
    "Last week we have implemented our own Multi-Layer Perceptron (MLP), where we defined both the forward pass and back-propagation together with a simple optimizer (SGD update rule) and successfully trained it to perform classification. Given the amount of code written, one can imagine that prototyping with various NN architectures and training strategies might get tedious. That is where PyTorch (and other deep learning frameworks) come into play.\n",
    "\n",
    "### 1.2: About PyTorch\n",
    "\n",
    "[PyTorch](https://pytorch.org/) is an optimized tensor library for deep learning using GPUs and CPUs. It allows\n",
    "for fast prototyping by providing high-level access to all necessary building blocks, including NN layers, activation functions, loss functions, and optimizers, to name a few. Most importantly, however, PyTorch implements the [autograd](https://pytorch.org/docs/stable/autograd.html) package, which allows for automatic differentiation of the operations we use to define NN architectures. In other words, one only has to implement the forward pass, namely to combine desired layers, while the **backpropagation is computed automatically**.\n",
    "\n",
    "### 1.3: Basic pipeline\n",
    "\n",
    "To define and train deep net models, one would usually implement the following steps:\n",
    "\n",
    "    1. Load the dataset.\n",
    "    2. Define and instantiate a deep net architecture.\n",
    "    3. Choose or implement a loss function (such as the mean squared error).\n",
    "    4. Choose and instantiate an optimizer (such as the SGD).\n",
    "    5. For each batch in the dataset:\n",
    "        5.1. Load a batch.\n",
    "        5.2. Run a forward pass through your model.\n",
    "        5.3. Compute the loss.\n",
    "        5.4. Run a backward pass, i.e., compute gradients of the loss w.r.t. the trainable parameters (weights).\n",
    "        5.5. Update the weights using the optimizer.\n",
    "        5.6. Zero-out the accumulated gradients before the next iteration.\n",
    "        \n",
    "We will see this exact pipeline in our code as well.\n",
    "\n",
    "### 1.4: Essential bulding blocks\n",
    "\n",
    "This section gives a high-level summary of the most important components representing the bare minimum that you will need to start playing with PyTorch and deep net models. You might want to skim through the official tutorials as well, namely [What is PyTorch](https://pytorch.org/tutorials/beginner/blitz/tensor_tutorial.html#sphx-glr-beginner-blitz-tensor-tutorial-py) and [Neural Networks](https://pytorch.org/tutorials/beginner/blitz/neural_networks_tutorial.html#sphx-glr-beginner-blitz-neural-networks-tutorial-py). Here is the list of the components that will be explained in more detail along with the code blocks.\n",
    "\n",
    "  - **nn.Module**: Base class for NN architectures.\n",
    "  - **criterion**: A loss function.\n",
    "  - **backward-pass**: Derivatives computed by the auto-diff system.\n",
    "  - **optimizer**: Updates the trainable parameters (weights) during training."
   ]
  },
  {
   "cell_type": "markdown",
   "metadata": {},
   "source": [
    "#### 1.5: Loading the data\n",
    "\n",
    "We are at step (1) of the training pipeline. PyTorch provides us with the `Dataset` and `DataLoader` classes, which manage the loading, shuffling and transformations of the data. Within our training loop we will treat our dataset as an *iterator*, which returns the batches of data and associated labels.\n",
    "\n",
    "As was the case of previous week, we will work with the [MNIST](https://en.wikipedia.org/wiki/MNIST_database) dataset, where each sample is stored as a $28 \\times 28$ pixels grayscale image. The data samples are loaded as `torch.Tensor` data type."
   ]
  },
  {
   "cell_type": "code",
   "execution_count": 8,
   "metadata": {},
   "outputs": [
    {
     "name": "stdout",
     "output_type": "stream",
     "text": [
      "Loaded 60000 tr and 10000 va samples.\n"
     ]
    }
   ],
   "source": [
    "batch_size = 128\n",
    "\n",
    "# Flattening transformation.\n",
    "\n",
    "##############################################\n",
    "# MAC and LINUX\n",
    "##############################################\n",
    "flatten = Lambda(lambda x: x.flatten())\n",
    "nw_tr = 4\n",
    "nw_te = 4\n",
    "##############################################\n",
    "\n",
    "##############################################\n",
    "# WINDOWS\n",
    "##############################################\n",
    "# class Flatten:\n",
    "#     def __call__(self, x):\n",
    "#         return x.flatten()\n",
    "# flatten = Flatten()\n",
    "# nw_tr = 0\n",
    "# nw_te = 0\n",
    "##############################################\n",
    "\n",
    "# Dataset and DataLoader for MLP.\n",
    "ds_fc_tr = MNIST('data', train=True, download=True, transform=Compose([ToTensor(), flatten]))\n",
    "ds_fc_te = MNIST('data', train=False, download=True, transform=Compose([ToTensor(), flatten]))\n",
    "dl_fc_tr = DataLoader(ds_fc_tr, batch_size=batch_size, shuffle=False, num_workers=nw_tr)\n",
    "dl_fc_te = DataLoader(ds_fc_te, batch_size=batch_size, shuffle=False, num_workers=nw_te)\n",
    "\n",
    "# Dataset for CNN.\n",
    "ds_cnn_tr = MNIST('data', train=True, download=True, transform=ToTensor())\n",
    "ds_cnn_te = MNIST('data', train=False, download=True, transform=ToTensor())\n",
    "dl_cnn_tr = DataLoader(ds_cnn_tr, batch_size=batch_size, shuffle=False, num_workers=nw_tr)\n",
    "dl_cnn_te = DataLoader(ds_cnn_te, batch_size=batch_size, shuffle=False, num_workers=nw_te)\n",
    "\n",
    "ntr = len(ds_fc_tr)\n",
    "nva = len(ds_fc_te)\n",
    "print('Loaded {} tr and {} va samples.'.format(ntr, nva))"
   ]
  },
  {
   "cell_type": "markdown",
   "metadata": {},
   "source": [
    "### 1.6: Multi-Layer Perceptron (MLP)\n",
    "\n",
    "#### Architecture\n",
    "\n",
    "We are at step (2) of the training pipeline. We will start by implementing an MLP consisting of a 1D input layer (we flatten, i.e., vectorize, the input image) of shape ($784$, ), $3$ hidden fully connected layers and an output layer of shape ($10$, ), as we have $10$ classes. \n",
    "\n",
    "#### Optimization criterion\n",
    "\n",
    "We would like to interpret the output vector $\\hat{\\yb} \\in \\real^{10}$ as the probabilities of data sample $\\xb \\in \\real^{784}$ belonging to each class $j \\in \\{1, 2, ... 10\\}$. Therefore, we will make use of the activation function **softmax** defined as:\n",
    "\n",
    "$$ \\hat{\\yb}^{(j)} = P(\\text{class}=j|\\zb) = \\frac{\\exp{\\zb^{\\top}\\wb_{(j)}}}{\\sum_{k=1}^{10}{\\exp{\\zb^{\\top}\\wb_{(k)}}}}. $$\n",
    "\n",
    "The softmax guarantees that $\\sum_{k=1}^{10}{\\hat{\\yb}_{k}} = 1$, meaning that out predicted vector $\\yb$ is indeed a valid probability distribution over classes. \n",
    "\n",
    "Finally, we would like to match the predicted distribution $\\hat{\\yb}$ to the ground truth (GT) one $\\yb$, where $\\yb$ is given as a one-hot encoding ($\\yb$ is all zeros except for a $1$ at the index $j$, if $j$ is the correct class to be predicted). The optimization criterion of choice is then to minimize the [**cross-entropy**](https://en.wikipedia.org/wiki/Cross_entropy) (CE) of $\\hat{\\yb}$ and $\\yb$. Therefore our final loss function $L$ is defined as:\n",
    "\n",
    "$$ L = \\text{CE}(\\yb, \\hat{\\yb}).$$\n",
    "\n",
    "Thankfully, PyTorch provides the implementation of $L$, so you will only really need to provide the output $\\zb$ (i.e. the 10-dimensional output of your last layer before the softmax). We will get back to $L$ later.\n",
    "\n",
    "---\n",
    "\n",
    "#### nn.Module\n",
    "Each custom NN architecture you choose to implement has to subclass the [`nn.Module`](https://pytorch.org/docs/stable/nn.html#module), which conveniently keeps track of all the trainable parameters. From the programmer's perspective, you have to implement the constructor (`__init__`) and override the `forward()` function:\n",
    "\n",
    "- **\\_\\_init__()**\n",
    "\n",
    "You will define your layers (e.g., fully connected layer, 2D convolutional layer, etc.) in the constructor, and `nn.Module` will automatically keep track of all the weights these layers contain.\n",
    "\n",
    "- **forward()**\n",
    "\n",
    "This function really defines the architecture, as you will sequentally call your layers in the desired order. Each time you call `forward()` (every training iteration), the so-called **computational graph** is built. It is a directed acyclic graph (DAG) of nodes corresponding to the operations you have called. Each node defines the derivative of its outputs w.r.t. its inputs. The computational graph is then traversed in the reversed fashion once you call `backward()` and the derivatives are computed.\n",
    "\n",
    "All the trainable parameters, which your model consists of, can be accessed via a call to `model.parameters()` implemented in `nn.Module`. This comes in handy once instantiating your optimizer as you have to pass all the parameters you want it to manage.\n",
    "\n",
    "---\n",
    "\n",
    "Your task is to define the MLP as depicted in the figure below. Please refer to the documentation and focus on\n",
    "the classes `nn.Linear` to define the layers and `F.relu` to call the activation funtion.\n",
    "\n",
    "<img src=\"img/mlp.png\" width=800></img>"
   ]
  },
  {
   "cell_type": "code",
   "execution_count": 9,
   "metadata": {},
   "outputs": [],
   "source": [
    "nn.Linear??"
   ]
  },
  {
   "cell_type": "code",
   "execution_count": 10,
   "metadata": {},
   "outputs": [],
   "source": [
    "class FC(nn.Module):\n",
    "    \"\"\" Standard Multi layer perceptron for classification into 10 \n",
    "    classes. Consists of 4 FC layers, ReLU activations are used \n",
    "    for the first 3.\n",
    "    \"\"\"\n",
    "    def __init__(self):\n",
    "        \"\"\" Constructor, layers definitions go here. Only specify\n",
    "        those layers which have any trainable parameters (but for\n",
    "        instance not the activation functions as the ones we use \n",
    "        do not have any trainable parameters). \"\"\"\n",
    "        super(FC, self).__init__()\n",
    "\n",
    "        #Your code here\n",
    "        self._fc1 = nn.Linear( in_features=28*28, out_features=512 )\n",
    "        self._fc2 = nn.Linear( in_features=512  , out_features=256 )\n",
    "        self._fc3 = nn.Linear( in_features=256  , out_features=128 )\n",
    "        self._fc4 = nn.Linear( in_features=128  , out_features=10  )\n",
    "\n",
    "    def forward(self, x):\n",
    "        \"\"\" Feed-forward pass, this is where the actual computation happens\n",
    "        and the computational graph is built (from scratch each time this \n",
    "        function is called). \"\"\"\n",
    "        \n",
    "        #Your code here\n",
    "        a = {}\n",
    "        a[1] = self._fc1(x)\n",
    "        a[2] = F.relu(self._fc2(a[1]))\n",
    "        a[3] = F.relu(self._fc3(a[2]))\n",
    "        a[4] = F.relu(self._fc4(a[3]))\n",
    "        return a[4]\n",
    "    \n",
    "# Instantiate the model.\n",
    "model_fc = FC().to(device)"
   ]
  },
  {
   "cell_type": "markdown",
   "metadata": {},
   "source": [
    "**Q:** How many learnable parameters (weights) does this model have?\n"
   ]
  },
  {
   "cell_type": "markdown",
   "metadata": {},
   "source": [
    "### 1.7: Inspecting the model architecture\n",
    "\n",
    "Let us check the model architecture and see how many trainable parameters we really use. For this purpose we will use the `torchsummary` package.\n",
    "\n",
    "Note the number of trainable parameters."
   ]
  },
  {
   "cell_type": "code",
   "execution_count": 11,
   "metadata": {},
   "outputs": [
    {
     "name": "stdout",
     "output_type": "stream",
     "text": [
      "----------------------------------------------------------------\n",
      "        Layer (type)               Output Shape         Param #\n",
      "================================================================\n",
      "            Linear-1                  [-1, 512]         401,920\n",
      "            Linear-2                  [-1, 256]         131,328\n",
      "            Linear-3                  [-1, 128]          32,896\n",
      "            Linear-4                   [-1, 10]           1,290\n",
      "================================================================\n",
      "Total params: 567,434\n",
      "Trainable params: 567,434\n",
      "Non-trainable params: 0\n",
      "----------------------------------------------------------------\n",
      "Input size (MB): 0.00\n",
      "Forward/backward pass size (MB): 0.01\n",
      "Params size (MB): 2.16\n",
      "Estimated Total Size (MB): 2.17\n",
      "----------------------------------------------------------------\n"
     ]
    }
   ],
   "source": [
    "summary(model_fc, input_size=(28 * 28, ))"
   ]
  },
  {
   "cell_type": "markdown",
   "metadata": {},
   "source": [
    "### 1.8: Loss function\n",
    "\n",
    "We are at step (3) of our pipeline. As explained above, our loss function $L$ will be $\\text{CE}(\\yb, \\hat{\\yb})$, which is provided for us by PyTorch, please refer to the documentation of [`nn.CrossEntropyLoss`](https://pytorch.org/docs/stable/nn.html?highlight=cross_entropy#torch.nn.CrossEntropyLoss).\n",
    "\n",
    "There are [many commonly used loss functions](https://pytorch.org/docs/stable/nn.html#loss-functions) defined in the `torch.nn` module, and you can also implement your own using PyTorch operations. \n",
    "\n",
    "Your task is to instantiate the CE loss function."
   ]
  },
  {
   "cell_type": "code",
   "execution_count": 13,
   "metadata": {},
   "outputs": [],
   "source": [
    "# Define the loss fuction.\n",
    "criterion = nn.CrossEntropyLoss() #your code here"
   ]
  },
  {
   "cell_type": "markdown",
   "metadata": {},
   "source": [
    "### 1.9: Optimizer\n",
    "We are at step (4) of the pipeline. The [Optimizer](https://pytorch.org/docs/stable/optim.html) updates the weights given the currently computed gradients. It can be a simple state-less function (such as SGD) or a more advanced one, which keeps track of additional information about the weights and the gradients (such as a running mean), which can be used for smarter update rules.\n",
    "\n",
    "We will opt for the simplest case, the state-less SGD. Your task is to instantiate this optimizer, please refer to [`optim.SGD`](https://pytorch.org/docs/stable/optim.html#torch.optim.SGD)."
   ]
  },
  {
   "cell_type": "code",
   "execution_count": 19,
   "metadata": {},
   "outputs": [],
   "source": [
    "torch.optim.SGD??"
   ]
  },
  {
   "cell_type": "code",
   "execution_count": 20,
   "metadata": {},
   "outputs": [],
   "source": [
    "learning_rate = 1e-1\n",
    "opt = torch.optim.SGD(model_fc.parameters(),lr=learning_rate) #your code here"
   ]
  },
  {
   "cell_type": "markdown",
   "metadata": {},
   "source": [
    "### 1.10: Training loop\n",
    "\n",
    "We are at step (5) of our pipeline. We would like to define a training loop where we iterate over the training samples and train our model. Let us define a function `train_model()` which will be used for training any architecture we come up with.\n",
    "\n",
    "Fill in the code that follows the steps 5.2 - 5.6 of our training pipeline. For running the backward pass, use the function [`backward()`](https://pytorch.org/docs/stable/autograd.html?highlight=backward#torch.autograd.backward). For zeroing out the accumulated gradients, use the function [`zero_grad()`](https://pytorch.org/docs/stable/nn.html?highlight=zero_grad#torch.nn.Module.zero_grad)."
   ]
  },
  {
   "cell_type": "code",
   "execution_count": 24,
   "metadata": {},
   "outputs": [
    {
     "name": "stdout",
     "output_type": "stream",
     "text": [
      "T_destination\n",
      "add_module\n",
      "apply\n",
      "bfloat16\n",
      "buffers\n",
      "children\n",
      "cpu\n",
      "cuda\n",
      "double\n",
      "dump_patches\n",
      "eval\n",
      "extra_repr\n",
      "float\n",
      "forward\n",
      "get_buffer\n",
      "get_extra_state\n",
      "get_parameter\n",
      "get_submodule\n",
      "half\n",
      "load_state_dict\n",
      "modules\n",
      "named_buffers\n",
      "named_children\n",
      "named_modules\n",
      "named_parameters\n",
      "parameters\n",
      "register_backward_hook\n",
      "register_buffer\n",
      "register_forward_hook\n",
      "register_forward_pre_hook\n",
      "register_full_backward_hook\n",
      "register_parameter\n",
      "requires_grad_\n",
      "set_extra_state\n",
      "share_memory\n",
      "state_dict\n",
      "to\n",
      "to_empty\n",
      "train\n",
      "type\n",
      "xpu\n",
      "zero_grad\n"
     ]
    }
   ],
   "source": [
    "def printMethods(obj):\n",
    "    for m in dir(obj):\n",
    "        if not m.startswith(\"_\"):\n",
    "            print(m)\n",
    "printMethods(nn.CrossEntropyLoss)\n",
    "nn.CrossEntropyLoss??"
   ]
  },
  {
   "cell_type": "code",
   "execution_count": 34,
   "metadata": {},
   "outputs": [],
   "source": [
    "torch.optim.SGD??"
   ]
  },
  {
   "cell_type": "code",
   "execution_count": null,
   "metadata": {},
   "outputs": [],
   "source": [
    "def train_model(model, crit, opt, dl_tr, dl_te, epochs):\n",
    "    for ep in range(epochs):\n",
    "        # Training.\n",
    "        model.train()\n",
    "        for it, batch in enumerate(dl_tr):\n",
    "            # 5.1 Load a batch.\n",
    "            x, y = [d.to(device) for d in batch]\n",
    "\n",
    "            # 5.2 Run forward pass.\n",
    "            logits = model.forward(x)\n",
    "            \n",
    "            # 5.3 Compute loss (using 'criterion').\n",
    "            loss = crit(logits,y)\n",
    "            \n",
    "            # 5.4 Run backward pass.\n",
    "            loss.backward()\n",
    "            \n",
    "            # 5.5 Update the weights using optimizer.\n",
    "            opt.step()\n",
    "            \n",
    "            # 5.6 Zero-out the accumualted gradients.\n",
    "            opt.zero_grad()\n",
    "\n",
    "            print('\\rEp {}/{}, it {}/{}: loss train: {:.2f}, accuracy train: {:.2f}'.\n",
    "                  format(ep + 1, epochs, it + 1, len(dl_tr), loss,\n",
    "                         accuracy(logits, y)), end='')\n",
    "\n",
    "        # Validation.\n",
    "        model.eval()\n",
    "        with torch.no_grad():\n",
    "            acc_run = 0\n",
    "            for it, batch in enumerate(dl_te):\n",
    "                # Get batch of data.\n",
    "                x, y = [d.to(device) for d in batch]\n",
    "                curr_bs = x.shape[0]\n",
    "                acc_run += accuracy(model(x), y) * curr_bs\n",
    "            acc = acc_run / nva\n",
    "\n",
    "            print(', accuracy test: {:.2f}'.format(acc))"
   ]
  },
  {
   "cell_type": "markdown",
   "metadata": {},
   "source": [
    "### Training the model"
   ]
  },
  {
   "cell_type": "code",
   "execution_count": null,
   "metadata": {},
   "outputs": [],
   "source": [
    "epochs = 5\n",
    "train_model(model_fc, criterion, opt, dl_fc_tr, dl_fc_te, epochs)"
   ]
  },
  {
   "cell_type": "markdown",
   "metadata": {},
   "source": [
    "## Part 2: Convolutional Neural Networks (CNNs)\n",
    "\n",
    "Our 4-layer MLP network works well, reaching a test accuracy of ~0.96. However, this network uses ~0.5M weights. We can use even deeper architectures with less weights and take advantage of the 2D structure of the input data (images) using CNNs.\n",
    "\n",
    "### 2.1: LeNet-5\n",
    "\n",
    "Let us define a simple CNN with 2 convolutional layers with max-pooling and 3 FC layers. In particular, we will implement a variant of the architecture called [LeNet-5 introduced by Yann LeCun in 1999](http://yann.lecun.com/exdb/publis/pdf/lecun-99.pdf). \n",
    "\n",
    "\n",
    "Your task is to define a simple LeNet-5 architecture depicted in the figure below. Check the architecture using `torchsummary` and comment on the number of parameters. Finally train the model. To specify the layers, please refer to the functions [`Conv2d`](https://pytorch.org/docs/stable/nn.html#conv2d) and [`max_pool2d`](https://pytorch.org/docs/stable/nn.html?highlight=max_pool2d#torch.nn.functional.max_pool2d).\n",
    "\n",
    "<img src=\"img/lenet5.png\" width=800></img>\n"
   ]
  },
  {
   "cell_type": "code",
   "execution_count": null,
   "metadata": {},
   "outputs": [],
   "source": [
    "class CNN_LeNet(nn.Module):\n",
    "    \"\"\" CNN, expects input shape (28, 28).\n",
    "    \"\"\"\n",
    "    def __init__(self):\n",
    "        super(CNN_LeNet, self).__init__()\n",
    "\n",
    "        #your code here\n",
    "        self._conv2d1 = ...\n",
    "        self._conv2d2 = ...\n",
    "        self._fc1 = ...\n",
    "        self._fc2 = ...\n",
    "        self._fc3 = ...\n",
    "\n",
    "    def forward(self, x):\n",
    "        #your code here\n",
    "        return ...\n",
    "    \n",
    "# Instantiate the model.\n",
    "model_lenet = CNN_LeNet().to(device)"
   ]
  },
  {
   "cell_type": "markdown",
   "metadata": {},
   "source": [
    "**Q:** What is the number of trainable parameters in our LeNet model?"
   ]
  },
  {
   "cell_type": "markdown",
   "metadata": {},
   "source": [
    "Let us check the architecture again and the number of trainable parameters. We can directly see that this architecture needs just about 20% of the parameters the MLP used."
   ]
  },
  {
   "cell_type": "code",
   "execution_count": null,
   "metadata": {},
   "outputs": [],
   "source": [
    "# Print out the architecture and check the number of parameters.\n",
    "summary(model_lenet, input_size=(1, 28, 28))"
   ]
  },
  {
   "cell_type": "code",
   "execution_count": null,
   "metadata": {},
   "outputs": [],
   "source": [
    "# Train the model\n",
    "epochs = 5\n",
    "opt_lenet = torch.optim.SGD(model_lenet.parameters(), lr=learning_rate)\n",
    "train_model(model_lenet, F.cross_entropy, opt_lenet, dl_cnn_tr, dl_cnn_te, epochs)"
   ]
  },
  {
   "cell_type": "markdown",
   "metadata": {},
   "source": [
    "### 2.2: 3-layered CNN\n",
    "\n",
    "Let us now define an even deeper CNN with 3 convolutional layers and only 2 FC layers. This network should reach higher accuracy (or converge faster) and still use fewer parameters than the previous architectures.\n",
    "\n",
    "Your task is to implement a 3-layer CNN as depicted in the figure below. Check the number of parameters using `torchsummary`. Train the model and play around with the number of filters (kernels) used by every layer. Comment on your findings.\n",
    "\n",
    "<img src=\"img/cnn.png\" width=800></img>"
   ]
  },
  {
   "cell_type": "code",
   "execution_count": null,
   "metadata": {},
   "outputs": [],
   "source": [
    "class CNN(nn.Module):\n",
    "    \"\"\" CNN, expects input shape (28, 28).\n",
    "    \"\"\"\n",
    "    def __init__(self, filters=(16, 32, 64)):\n",
    "        super(CNN, self).__init__()\n",
    "\n",
    "        self._conv2d1 = nn.Conv2d(1, filters[0], 3, 1, padding=1)\n",
    "        self._conv2d2 = nn.Conv2d(filters[0], filters[1], 3, 1, padding=1)\n",
    "        self._conv2d3 = nn.Conv2d(filters[1], filters[2], 3, 1, padding=1)\n",
    "        self._fc1 = nn.Linear(3 * 3 * filters[2], 128)\n",
    "        self._fc2 = nn.Linear(128, 10)\n",
    "\n",
    "    def forward(self, x):\n",
    "        #your code here\n",
    "        return ...\n",
    "\n",
    "# Instantiate the model.\n",
    "filters = [16, 32, 64]\n",
    "model_cnn = CNN(filters).to(device)"
   ]
  },
  {
   "cell_type": "code",
   "execution_count": null,
   "metadata": {},
   "outputs": [],
   "source": [
    "# Print out the architecture and number of parameters.\n",
    "summary(model_cnn, input_size=(1, 28, 28))"
   ]
  },
  {
   "cell_type": "code",
   "execution_count": null,
   "metadata": {},
   "outputs": [],
   "source": [
    "# Train the model.\n",
    "opt_cnn = torch.optim.SGD(model_cnn.parameters(), lr=learning_rate)\n",
    "train_model(model_cnn, F.cross_entropy, opt_cnn, dl_cnn_tr, dl_cnn_te, epochs)"
   ]
  },
  {
   "cell_type": "markdown",
   "metadata": {},
   "source": [
    "### 2.3: Trying out your own input\n",
    "\n",
    "We have provided a tool for you to draw your own digits and test your network. Play around with the inputs to get a sense of how accurate your model is. Use the button `reset` to reset the canvas and `predict` to run the prediction on the current canvas image. You can use the button `blur` to blur your drawn image so that it looks closer to the samples from the training set."
   ]
  },
  {
   "cell_type": "code",
   "execution_count": null,
   "metadata": {},
   "outputs": [],
   "source": [
    "dp = DrawingPad((28, 28), model_lenet, device)"
   ]
  }
 ],
 "metadata": {
  "kernelspec": {
   "display_name": "Python 3 (ipykernel)",
   "language": "python",
   "name": "python3"
  },
  "language_info": {
   "codemirror_mode": {
    "name": "ipython",
    "version": 3
   },
   "file_extension": ".py",
   "mimetype": "text/x-python",
   "name": "python",
   "nbconvert_exporter": "python",
   "pygments_lexer": "ipython3",
   "version": "3.9.5"
  }
 },
 "nbformat": 4,
 "nbformat_minor": 4
}

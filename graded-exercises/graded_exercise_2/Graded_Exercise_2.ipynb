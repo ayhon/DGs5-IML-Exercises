{
 "cells": [
  {
   "cell_type": "code",
   "execution_count": 1,
   "metadata": {},
   "outputs": [],
   "source": [
    "# Useful starting lines\n",
    "%matplotlib inline\n",
    "import numpy as np\n",
    "import torch\n",
    "import matplotlib as mpl\n",
    "import matplotlib.pyplot as plt\n",
    "import torch # Twice the power!!\n",
    "%load_ext autoreload\n",
    "%autoreload 2\n",
    "%matplotlib inline\n",
    "\n",
    "mpl.rc('figure', max_open_warning = 0)"
   ]
  },
  {
   "cell_type": "code",
   "execution_count": 2,
   "metadata": {},
   "outputs": [],
   "source": [
    "import helpers.pytorch_helpers as pytorch_helpers\n",
    "import grading.save_student_results as save_student_results"
   ]
  },
  {
   "cell_type": "markdown",
   "metadata": {},
   "source": [
    "# Graded Exercise Session 2 \n",
    "\n",
    "**Date: 10.12.2021**\n",
    "\n",
    "Welcome to the second graded exercise session. \n",
    "\n",
    "You are asked to fill in the code in a few cells throughout the exercise. At the end of each cell where we ask you to fill in some code, you will notice a call to a function from the `save_student_results` module. This ensures that the body of your function is run with pre-generated data and your current results are saved to a file (which you will eventually submit to Moodle). The cells are independent of each other and you will receive points for each individual cell. We will not grant partial points within a cell.\n",
    "\n",
    "Before you finish, please make sure to **upload two files to Moodle**:\n",
    "* **graded_exercise_2.ipynb**\n",
    "* **answers_SCIPER.npz (e.g. \"answers_280595.npz\")**\n",
    "\n",
    "Good luck! :)"
   ]
  },
  {
   "cell_type": "code",
   "execution_count": 3,
   "metadata": {},
   "outputs": [],
   "source": [
    "sciper_number = 342296  # e.g. 123456\n",
    "save_student_results.initialize_res(locals())"
   ]
  },
  {
   "cell_type": "markdown",
   "metadata": {},
   "source": [
    "### Helper functions"
   ]
  },
  {
   "cell_type": "code",
   "execution_count": 4,
   "metadata": {},
   "outputs": [],
   "source": [
    "def printMethods(obj):\n",
    "    for m in dir(obj):\n",
    "        if not m.startswith(\"_\"):\n",
    "            print(m)"
   ]
  },
  {
   "cell_type": "markdown",
   "metadata": {},
   "source": [
    "## Part 1. MLP: \n",
    "\n",
    "In this part, we will be testing an already trained two-layered MLP. \n",
    "\n",
    "First let's warm up by coding the `tanh` activation function. This activation function is defined as:\n",
    "\n",
    "\\begin{align}\n",
    "\\text{tanh}(z) = \\frac{e^{z}-e^{-z}}{e^{z}+e^{-z}}\n",
    "\\end{align}\n",
    "\n",
    "Its gradient is defined as:\n",
    "\n",
    "\\begin{align}\n",
    "\\frac{d\\text{tanh}(z)}{dz} = 1-(\\text{tanh}(z))^2\n",
    "\\end{align}\n",
    "\n",
    "Now, let's code!"
   ]
  },
  {
   "cell_type": "code",
   "execution_count": 5,
   "metadata": {},
   "outputs": [],
   "source": [
    "class Tanh:\n",
    "    @staticmethod\n",
    "    def forward(z):\n",
    "        ### YOUR CODE HERE\n",
    "        return (np.exp(z) - np.exp(-z))/(np.exp(z) + np.exp(-z))\n",
    "        \n",
    "    @staticmethod\n",
    "    def gradient(z):\n",
    "        ### YOUR CODE HERE\n",
    "        return 1 - Tanh.forward(z)**2\n",
    "    \n",
    "save_student_results.save_tanh(locals())"
   ]
  },
  {
   "cell_type": "code",
   "execution_count": 6,
   "metadata": {
    "scrolled": true
   },
   "outputs": [
    {
     "data": {
      "image/png": "[encoded data removed]",
      "text/plain": [
       "<Figure size 432x288 with 1 Axes>"
      ]
     },
     "metadata": {
      "needs_background": "light"
     },
     "output_type": "display_data"
    },
    {
     "data": {
      "image/png": "[encoded data removed]",
      "text/plain": [
       "<Figure size 432x288 with 1 Axes>"
      ]
     },
     "metadata": {
      "needs_background": "light"
     },
     "output_type": "display_data"
    }
   ],
   "source": [
    "# Let's test whether our functions work\n",
    "z = np.linspace(-10,10,1000)\n",
    "T = Tanh.forward(z)\n",
    "dT_dz = Tanh.gradient(z)\n",
    "\n",
    "plt.plot(z, T)\n",
    "plt.title('Tanh')\n",
    "plt.show()\n",
    "\n",
    "plt.plot(z, dT_dz)\n",
    "plt.title('Derivative Tanh')\n",
    "plt.show()"
   ]
  },
  {
   "cell_type": "markdown",
   "metadata": {},
   "source": [
    "Now let's define the following neural network: \n",
    "* The first layer (input layer): Our network will take an input of 5 dimensions.\n",
    "* Hidden layer 1: 10 nodes.\n",
    "* Hidden layer 2: 12 nodes. \n",
    "* Final layer (output layer): Our network returns an output of 3 dimensions. \n",
    "\n",
    "Below, we provide an image depicting this network. (If there is no image showing in your notebook, check the helpers folder for mlp.png)."
   ]
  },
  {
   "cell_type": "markdown",
   "metadata": {},
   "source": [
    "![MLP](helpers/mlp.png)\n"
   ]
  },
  {
   "cell_type": "code",
   "execution_count": 7,
   "metadata": {},
   "outputs": [],
   "source": [
    "def forward_pass (X, weights1, bias1, weights2, bias2, weights3, bias3, activation=Tanh):\n",
    "    \"\"\"\n",
    "        Forward pass of our MLP, using current weights and biases. Returns the output of the network.\n",
    "        Parameters:\n",
    "            X (np.array): Input, of shape (N,D_input), where D_input=5. \n",
    "            weights1 (np.array): Weights between the input layer and hidden layer 1, of shape (5,10)\n",
    "            bias1(np.array): Bias of hidden layer 1 of shape (10,)\n",
    "            weights2 (np.array): Weights between hidden layer 1 and hidden layer 2, of shape (10,12)\n",
    "            bias2(np.array): Bias of hidden layer 2 of shape (12,)\n",
    "            weights3 (np.array): Weights between hidden layer 2 and the output layer, of shape (12,3)\n",
    "            bias3(np.array): Bias of layer 3, of shape (3,)\n",
    "\n",
    "        :return:\n",
    "            output (np.array): Output, of shape (N,D_output), where D_output=3\n",
    "    \"\"\"\n",
    "    ## YOUR CODE HERE\n",
    "    X = activation.forward(np.dot(X,weights1) + bias1)\n",
    "    X = activation.forward(np.dot(X,weights2) + bias2)\n",
    "    X = activation.forward(np.dot(X,weights3) + bias3)\n",
    "    return X\n",
    "\n",
    "save_student_results.save_forward_pass(locals())"
   ]
  },
  {
   "cell_type": "code",
   "execution_count": 8,
   "metadata": {},
   "outputs": [
    {
     "name": "stdout",
     "output_type": "stream",
     "text": [
      "This shape should be (100,3): (100, 3)\n"
     ]
    }
   ],
   "source": [
    "## A quick test\n",
    "\n",
    "X = np.random.normal(0,1,(100,5))\n",
    "weights1 = np.random.normal(0,1,(5,10))\n",
    "bias1 = np.random.normal(0,1,(10,))\n",
    "weights2 = np.random.normal(0,1,(10,12))\n",
    "bias2 = np.random.normal(0,1,(12,))\n",
    "weights3 = np.random.normal(0,1,(12,3))\n",
    "bias3 = np.random.normal(0,1,(3,))\n",
    "\n",
    "out = forward_pass(X, weights1, bias1, weights2, bias2, weights3, bias3, Tanh)\n",
    "print(\"This shape should be (100,3):\", out.shape)\n",
    "\n"
   ]
  },
  {
   "cell_type": "markdown",
   "metadata": {},
   "source": [
    "## Part 2. Optimization Using PyTorch"
   ]
  },
  {
   "cell_type": "markdown",
   "metadata": {},
   "source": [
    "As discussed during a previous exercise session, PyTorch allows for automatic differentiation of standard mathematical operations. In other words, gradients of standard operations are computed automatically. Gradient descent can thus be performed very easily, without having to manually define or compute gradients.\n",
    "\n",
    "In this exercise, we exploit this to minimize a toy 1D function $f$ that is differentiable:\n",
    "\\begin{align*}\n",
    "f: & \\mathbb{R} \\rightarrow \\mathbb{R} \\\\ \n",
    " & x \\mapsto f(x)\n",
    "\\end{align*}\n",
    "\n",
    "The goal is to find $x^*$ such that $f(x^*)$ is a local minimum. Such an $x^*$ can be numerically estimated by using gradient descent. Starting from $x_0 \\in \\mathbb{R}$, we iteratively update it for $k \\leq K$ steps using\n",
    "$$\n",
    "x_{k+1} = x_k - \\eta \\cdot f'(x_k)\n",
    "$$\n",
    "where the scalar $\\eta$ is the learning rate.\n",
    "\n",
    "PyTorch automates for us both the computation of the derivative $f'(x_k)$, and the gradient descent step."
   ]
  },
  {
   "cell_type": "markdown",
   "metadata": {},
   "source": [
    "### 1. Implement a function in pytorch\n",
    "\n",
    "The goal is to code the following formula: \n",
    "\n",
    "$$\n",
    "f(x) = \\frac{\\sin(3.14 x)}{|x|+1} + 2\\exp\\big({-\\frac{(x-4.5)^2}{2}}\\big)\n",
    "$$\n",
    "\n",
    "For computing $\\sin(\\cdot)$ and $\\exp(\\cdot)$, you must **use PyTorch functions** ```torch.sin``` and ```torch.exp``` instead of the numpy ones (```np.sin``` and ```np.exp```). Using PyTorch versions of these functions allows it to compute gradients, which numpy does not do.\n",
    "\n",
    "If the formula is implemented correctly, you must get the following plot:\n",
    "\n",
    "![func](helpers/func.png \"Function to code\")"
   ]
  },
  {
   "cell_type": "code",
   "execution_count": 9,
   "metadata": {
    "scrolled": true
   },
   "outputs": [
    {
     "data": {
      "image/png": "[encoded data removed]",
      "text/plain": [
       "<Figure size 432x288 with 1 Axes>"
      ]
     },
     "metadata": {
      "needs_background": "light"
     },
     "output_type": "display_data"
    }
   ],
   "source": [
    "def f(x):\n",
    "    ### YOUR CODE HERE\n",
    "    first_term = torch.sin( 3.14*x ) / (abs(x) + 1)\n",
    "    second_term = 2 * torch.exp( -(x - 4.5)**2/2 )\n",
    "    ###\n",
    "    \n",
    "    return first_term + second_term\n",
    "    ###\n",
    "\n",
    "## Save results for grading\n",
    "save_student_results.f(locals())\n",
    "    \n",
    "# And plot it\n",
    "pytorch_helpers.plot_function(f)"
   ]
  },
  {
   "cell_type": "markdown",
   "metadata": {},
   "source": [
    "### 2. Initialize the starting point and the optimizer\n",
    "\n",
    "We need to define one PyTorch tensor storing the value of $x_0$, as well as the optimizer for doing gradient descent steps. \n",
    "The goal is to code an `init_x_and_optim` function that does both. This function returns:\n",
    "\n",
    "* One initial point:\n",
    "    - The `float` value of $x_0$ that must be converted to a `torch.tensor` (equivalent to a numpy array, but in pytorch).\n",
    "    - By default, all newly created tensors in PyTorch do not require gradients computation. For the gradient to be computed, you need to manually set the `requires_grad` attribute to True.\n",
    "* One optimizer, handling the gradient descent steps for us:\n",
    "    - In this exercise, we use a predefined Stochastic Gradient Descent (SGD) optimizer from PyTorch, created using ```torch.optim.SGD(...)```. As the parameters to optimize, we pass the values of $x_0$\n",
    "    \n",
    "    \n",
    "More generally, PyTorch [documentation and examples](https://pytorch.org/docs/stable/optim.html) on how to perform one gradient descent can be very useful (for this part, you are allowed to look at this webpage)! Also, don't hesitate to look at the previous exercise sessions which also used PyTorch.\n",
    "\n",
    "We have provided the implementation for you."
   ]
  },
  {
   "cell_type": "code",
   "execution_count": 10,
   "metadata": {},
   "outputs": [],
   "source": [
    "def init_x_and_optim(x_0_value, lr):\n",
    "    \"\"\"\n",
    "    Define one initial value and associated optimizer with a given learning rate.\n",
    "    \n",
    "    Inputs:\n",
    "        x_0_value : float, the initial value of x_0\n",
    "        lr : float, optimizer's learning rate\n",
    "    Outputs:\n",
    "        x_0 : torch tensor of shape (1), whose single value is x_0_value\n",
    "                x_0 must have attribute .requires_grad = True\n",
    "        opt : torch SGD optimizer on the x_0 tensor, with learning rate lr\n",
    "    \"\"\"\n",
    "    # Create a pytorch tensor (equivalent to numpy array)\n",
    "    # of one single element, whose value is x_0_value\n",
    "    x_0 = torch.tensor([x_0_value])\n",
    "    \n",
    "    # If you have not already done it while initializing x_0 above,\n",
    "    # tell pytorch we are interested in getting the gradients of this tensor\n",
    "    x_0.requires_grad = True\n",
    "    \n",
    "    # Initialize one optimizer: SGD, whose goal is to optimize x_0, using learning rate lr\n",
    "    opt = torch.optim.SGD([x_0], lr=lr)\n",
    "    \n",
    "    return x_0, opt"
   ]
  },
  {
   "cell_type": "markdown",
   "metadata": {},
   "source": [
    "## 3. Minimize the function\n",
    "\n",
    "The goal of this part is to write a routine to minimize the function $f$ via automatic gradient computation in PyTorch. If the function is implemented correctly, you must get the following descent plot (from $x_0$ in blue to $x_{final}$ in red):\n",
    "\n",
    "![func](helpers/descent.png \"Function to code\")"
   ]
  },
  {
   "cell_type": "code",
   "execution_count": 11,
   "metadata": {},
   "outputs": [],
   "source": [
    "X_0_VALUE = 3. # initial point of x\n",
    "LR = 0.01 # learning rate\n",
    "NUM_STEPS = 1000 # number of gradient steps"
   ]
  },
  {
   "cell_type": "code",
   "execution_count": 12,
   "metadata": {},
   "outputs": [
    {
     "data": {
      "image/png": "[encoded data removed]",
      "text/plain": [
       "<Figure size 432x288 with 1 Axes>"
      ]
     },
     "metadata": {
      "needs_background": "light"
     },
     "output_type": "display_data"
    }
   ],
   "source": [
    "# Gradient descent loop encapsulated in a function\n",
    "def minimize(f, x_0, opt, n_steps):\n",
    "    \"\"\"\n",
    "    Inputs:\n",
    "        f : function R -> R whose output we want to minimize using gradient descent\n",
    "        x_0 : torch tensor of shape (1), whose single value is the initial guess for minimizing f\n",
    "                x_0 must have attribute .requires_grad = True\n",
    "        opt : torch SGD optimizer on the x_0 tensor\n",
    "        n_steps : int, the number of gradient descent steps to perform\n",
    "    Outputs:\n",
    "        trace : list containing n_steps pairs representing the successive\n",
    "                inputs and outputs to f during the descent:\n",
    "                    [(x_0, f(x_0)), (x_1, f(x_1)), ...., (x_{n_steps}, f(x_{n_steps}))]\n",
    "                WARNING: Each tuple is a tuple of python floats, not torch tensors\n",
    "                From a torch tensor x containing a single value, the corresponding value\n",
    "                can be obtained via x.item()     \n",
    "    \"\"\"\n",
    "    # For accumulating points during the descent\n",
    "    trace = []\n",
    "    \n",
    "    # Iterate for n_steps:\n",
    "    for k in range(n_steps):\n",
    "        # Initialize the gradients to zero\n",
    "        ### YOUR CODE HERE\n",
    "        opt.zero_grad()\n",
    "        ###\n",
    "\n",
    "        # Compute the function's output\n",
    "        ### YOUR CODE HERE\n",
    "        y = f(x_0)\n",
    "        ###\n",
    "        \n",
    "        # Ask pytorch to compute the gradient: we want to minimize y\n",
    "        ### YOUR CODE HERE\n",
    "        y.backward()\n",
    "        ###\n",
    "\n",
    "\n",
    "        # Do one step of gradient descent with opt\n",
    "        ### YOUR CODE HERE\n",
    "        opt.step()\n",
    "        ###\n",
    "\n",
    "        \n",
    "        # Accumulate the current (x,f(x)) point\n",
    "        trace.append((x_0.item(), y.item()))\n",
    "    \n",
    "    return trace\n",
    "\n",
    "\n",
    "## Save results for grading\n",
    "save_student_results.minimize(locals())\n",
    "\n",
    "\n",
    "# Initialize the optimization\n",
    "x_0, optimizer = init_x_and_optim(X_0_VALUE, LR)\n",
    "# Do the actual minimization\n",
    "optimization_trace = minimize(f, x_0, optimizer, NUM_STEPS)\n",
    "# We plot the descent on the graph of f\n",
    "# (only for 1/10th of the trace points)\n",
    "pytorch_helpers.plot_descent(f, optimization_trace[::10])"
   ]
  },
  {
   "cell_type": "markdown",
   "metadata": {},
   "source": [
    "## 4. Maximize the function\n",
    "\n",
    "PyTorch can very easily be used to perform gradient **ascent**, i.e., to maximize a function. With code very similar to what you wrote in the first part of the exercise for minimizing function $f$, you are now asked to maximize it.\n",
    "\n",
    "The initialization step (creating an initial tensor and optimizer) is the same and does not need to be recoded. However, ```minimize()``` was coded to perform gradient descent. Now, with only a slight variation, you are asked to code ```maximize()```, to perform gradient ascent.\n",
    "\n",
    "*Hint*: maximizing a function $f$ is equivalent to minimizing $-f$. \n",
    "\n",
    "If the function is implemented correctly, you must get the following ascent plot (from $x_0$ in blue to $x_{final}$ in red):\n",
    "\n",
    "![func](helpers/ascent.png \"Function to code\")\n",
    "\n"
   ]
  },
  {
   "cell_type": "code",
   "execution_count": 13,
   "metadata": {},
   "outputs": [
    {
     "data": {
      "image/png": "[encoded data removed]",
      "text/plain": [
       "<Figure size 432x288 with 1 Axes>"
      ]
     },
     "metadata": {
      "needs_background": "light"
     },
     "output_type": "display_data"
    }
   ],
   "source": [
    "# Gradient ASCENT loop encapsulated in a function\n",
    "def maximize(f, x_0, opt, n_steps):\n",
    "    \"\"\"\n",
    "    Inputs:\n",
    "        f : function R -> R whose output we want to minimize using gradient ascent\n",
    "        x_0 : torch tensor of shape (1), whose single value is the initial guess for maximizing g\n",
    "                x_0 must have attribute .requires_grad = True\n",
    "        opt : torch SGD optimizer on the x_0 tensor\n",
    "        n_steps : int, the number of gradient ascent steps to perform\n",
    "    Outputs:\n",
    "        trace : list containing n_steps 2-tuples representing the successive\n",
    "                inputs and outputs to f during the ascent:\n",
    "                    [(x_0, f(x_0)), (x_1, f(x_1)), ...., (x_{n_steps}, f(x_{n_steps}))]\n",
    "                WARNING: Each tuple is a tuple of python floats, not torch tensors\n",
    "                From a torch tensor x containing a single value, the corresponding value\n",
    "                can be obtained via x.item()     \n",
    "    \"\"\"\n",
    "    # For accumulating points during the ascent\n",
    "    trace = []\n",
    "    \n",
    "    # Iterate for n_steps:\n",
    "    for k in range(n_steps):\n",
    "        # Initialize the gradients\n",
    "        ### YOUR CODE HERE\n",
    "        opt.zero_grad()\n",
    "        ###\n",
    "\n",
    "        \n",
    "        # Compute the function's output\n",
    "        ### YOUR CODE HERE\n",
    "        y = f(x_0)\n",
    "        ###\n",
    "    \n",
    "        \n",
    "        # Compute the gradient: we want to MAXIMIZE y, ie. MINIMIZE (-y)\n",
    "        ### YOUR CODE HERE\n",
    "        (-y).backward()\n",
    "        ###\n",
    "\n",
    "        \n",
    "        # Do one step of gradient descent\n",
    "        ### YOUR CODE HERE\n",
    "        opt.step()\n",
    "        ###\n",
    "\n",
    "        \n",
    "        # Accumulate the current (x,g(x)) point\n",
    "        trace.append((x_0.item(), y.item()))\n",
    "    return trace\n",
    "\n",
    "\n",
    "## Save results for grading\n",
    "save_student_results.maximize(locals())\n",
    "\n",
    "\n",
    "# Initialize the optimization\n",
    "x_0, optimizer = init_x_and_optim(X_0_VALUE, LR)\n",
    "# Do the actual maximization\n",
    "optimization_trace = maximize(f, x_0, optimizer, NUM_STEPS)\n",
    "# We plot the ascent on the graph of f\n",
    "# (only for 1/10th of the trace points)\n",
    "pytorch_helpers.plot_descent(f, optimization_trace[::10])"
   ]
  },
  {
   "cell_type": "markdown",
   "metadata": {},
   "source": [
    "## Part 3. Bag of Words Representation\n",
    "\n",
    "### 1. Load the dataset\n",
    "\n",
    "In this exercise, we ask you to represent texts as vectors using Bag of Words (BoW). Our dataset $R=\\{r_i\\}_{i=0}^{N-1}$ consists of $N$ movie reviews $r_i$. Each review ${r_i}$ is encoded as a list of words. Our aim is to construct an $N \\times K$ BoW representation array $X$, where $K$ is the number of unique words in the whole dataset.\n",
    "\n",
    "First let us begin by running the following cells to load the dataset. **You do not need to implement anything in this first section.**"
   ]
  },
  {
   "cell_type": "code",
   "execution_count": 14,
   "metadata": {},
   "outputs": [
    {
     "name": "stdout",
     "output_type": "stream",
     "text": [
      "Here is an example review:\n",
      " one of the other reviewers has mentioned that after watching just 1 oz episode youll be hooked they are right as this is exactly what happened with me the first thing that struck me about oz was its brutality and unflinching scenes of violence which set in right from the word go trust me this is not a show for the faint hearted or timid this show pulls no punches with regards to drugs sex or violence its is hardcore in the classic use of the word it is called oz as that is the nickname given to the oswald maximum security state penitentary it focuses mainly on emerald city an experimental section of the prison where all the cells have glass fronts and face inwards so privacy is not high on the agenda em city is home to manyaryans muslims gangstas latinos christians italians irish and moreso scuffles death stares dodgy dealings and shady agreements are never far away i would say the main appeal of the show is due to the fact that it goes where other shows wouldnt dare forget pretty pictures painted for mainstream audiences forget charm forget romanceoz does not mess around the first episode i ever saw struck me as so nasty it was surreal i could not say i was ready for it but as i watched more i developed a taste for oz and got accustomed to the high levels of graphic violence not just violence but injustice crooked guards wholl be sold out for a nickel inmates wholl kill on order and get away with it well mannered middle class inmates being turned into prison bitches due to their lack of street skills or prison experience watching oz you may become comfortable with what is uncomfortable viewingthats if you can get in touch with your darker side\n"
     ]
    }
   ],
   "source": [
    "import csv\n",
    "import string\n",
    "\n",
    "# Read the dataset and clean it\n",
    "with open('helpers/IMDB_Dataset_subset_0_cleaned.csv') as file:\n",
    "    csvreader = csv.reader(file)\n",
    "    header = next(csvreader)\n",
    "    reviews_org = []\n",
    "    for review, sentiment in csvreader:\n",
    "        reviews_org.append(review)\n",
    "\n",
    "# Index for the example review\n",
    "idx = 0\n",
    "print(\"Here is an example review:\\n {}\".format(reviews_org[idx]))"
   ]
  },
  {
   "cell_type": "markdown",
   "metadata": {},
   "source": [
    "#### We split each review as list of words and  exclude the words that contains digits \n"
   ]
  },
  {
   "cell_type": "code",
   "execution_count": 15,
   "metadata": {},
   "outputs": [
    {
     "name": "stdout",
     "output_type": "stream",
     "text": [
      "And this is the same example after we preprocess it:\n",
      " ['one', 'of', 'the', 'other', 'reviewers', 'has', 'mentioned', 'that', 'after', 'watching', 'just', 'oz', 'episode', 'youll', 'be', 'hooked', 'they', 'are', 'right', 'as', 'this', 'is', 'exactly', 'what', 'happened', 'with', 'me', 'the', 'first', 'thing', 'that', 'struck', 'me', 'about', 'oz', 'was', 'its', 'brutality', 'and', 'unflinching', 'scenes', 'of', 'violence', 'which', 'set', 'in', 'right', 'from', 'the', 'word', 'go', 'trust', 'me', 'this', 'is', 'not', 'a', 'show', 'for', 'the', 'faint', 'hearted', 'or', 'timid', 'this', 'show', 'pulls', 'no', 'punches', 'with', 'regards', 'to', 'drugs', 'sex', 'or', 'violence', 'its', 'is', 'hardcore', 'in', 'the', 'classic', 'use', 'of', 'the', 'word', 'it', 'is', 'called', 'oz', 'as', 'that', 'is', 'the', 'nickname', 'given', 'to', 'the', 'oswald', 'maximum', 'security', 'state', 'penitentary', 'it', 'focuses', 'mainly', 'on', 'emerald', 'city', 'an', 'experimental', 'section', 'of', 'the', 'prison', 'where', 'all', 'the', 'cells', 'have', 'glass', 'fronts', 'and', 'face', 'inwards', 'so', 'privacy', 'is', 'not', 'high', 'on', 'the', 'agenda', 'em', 'city', 'is', 'home', 'to', 'manyaryans', 'muslims', 'gangstas', 'latinos', 'christians', 'italians', 'irish', 'and', 'moreso', 'scuffles', 'death', 'stares', 'dodgy', 'dealings', 'and', 'shady', 'agreements', 'are', 'never', 'far', 'away', 'i', 'would', 'say', 'the', 'main', 'appeal', 'of', 'the', 'show', 'is', 'due', 'to', 'the', 'fact', 'that', 'it', 'goes', 'where', 'other', 'shows', 'wouldnt', 'dare', 'forget', 'pretty', 'pictures', 'painted', 'for', 'mainstream', 'audiences', 'forget', 'charm', 'forget', 'romanceoz', 'does', 'not', 'mess', 'around', 'the', 'first', 'episode', 'i', 'ever', 'saw', 'struck', 'me', 'as', 'so', 'nasty', 'it', 'was', 'surreal', 'i', 'could', 'not', 'say', 'i', 'was', 'ready', 'for', 'it', 'but', 'as', 'i', 'watched', 'more', 'i', 'developed', 'a', 'taste', 'for', 'oz', 'and', 'got', 'accustomed', 'to', 'the', 'high', 'levels', 'of', 'graphic', 'violence', 'not', 'just', 'violence', 'but', 'injustice', 'crooked', 'guards', 'wholl', 'be', 'sold', 'out', 'for', 'a', 'nickel', 'inmates', 'wholl', 'kill', 'on', 'order', 'and', 'get', 'away', 'with', 'it', 'well', 'mannered', 'middle', 'class', 'inmates', 'being', 'turned', 'into', 'prison', 'bitches', 'due', 'to', 'their', 'lack', 'of', 'street', 'skills', 'or', 'prison', 'experience', 'watching', 'oz', 'you', 'may', 'become', 'comfortable', 'with', 'what', 'is', 'uncomfortable', 'viewingthats', 'if', 'you', 'can', 'get', 'in', 'touch', 'with', 'your', 'darker', 'side']\n",
      "Number of words in the example review : 305\n",
      "\n",
      "The number of samples (i.e., reviews) in our dataset is: 149\n"
     ]
    }
   ],
   "source": [
    "def containsNumber(value):\n",
    "    for character in value:\n",
    "        if character.isdigit():\n",
    "            return True\n",
    "    return False\n",
    "\n",
    "reviews_no_digits = []\n",
    "for review in reviews_org:\n",
    "    review_split = [ r for r in review.split() if not containsNumber(r)]\n",
    "    reviews_no_digits.append(review_split)\n",
    "\n",
    "reviews = reviews_no_digits\n",
    "\n",
    "idx = 0\n",
    "print(\"And this is the same example after we preprocess it:\\n {}\".format(reviews[idx]))\n",
    "print(\"Number of words in the example review : {}\\n\".format(len(reviews[idx])))\n",
    "print(\"The number of samples (i.e., reviews) in our dataset is:\", len(reviews))"
   ]
  },
  {
   "cell_type": "markdown",
   "metadata": {},
   "source": [
    "\n",
    "### 2. Bag of Words for each review\n",
    "\n",
    "In this part, you are given a ready function that represents each review as BoWs. The function generates a list $B = \\{b_i\\}_{i=0}^{N-1}$. The elements of $B$ are entries of the form $b_i = \\{\\tilde{w}_{i}^{(j)} : m_{i}^{(j)}\\}_{j=0}^{\\tilde{C}_i-1}$, where $\\tilde{C}_i$ is the number of unique words in $r_i$, $\\tilde{w}_{i}^{(j)}$ is the j-th unique word in review $r_i$ and $m_{i}^{(j)}$ is the number of times the word $\\tilde{w}_{i}^{(j)}$ occurs in review $r_i$.\n",
    "\n",
    "For example, for the following raw inputs:\n",
    "\n",
    "[\"Machine machine learning learning machine. Is is is. Really fun really fun fun fun fun.\",\n",
    "\"Machine learning. is is. Awesome awesome\"]\n",
    "\n",
    "You have the pre-processed inputs:\n",
    "\n",
    "[['machine', 'machine', 'learning', 'learning', 'machine', 'is', 'is', 'is', 'really', 'fun', 'really', 'fun', 'fun', 'fun', 'fun'],\n",
    "['machine', 'learning', 'is', 'is', 'awesome', 'awesome']]\n",
    "\n",
    "The resulting list should look like:\n",
    "\n",
    "[{'machine': 3, 'learning': 2, 'is': 3, 'really':2, 'fun':5}, {'machine': 1, 'learning': 1, 'is': 2, 'awesome': 2}]\n",
    "\n",
    "**You do not need to implement anything in this section either.** You need to use the function below in the following parts. Let's see the output of the function.\n",
    "\n",
    "#### Implementation is given below"
   ]
  },
  {
   "cell_type": "code",
   "execution_count": 16,
   "metadata": {},
   "outputs": [
    {
     "name": "stdout",
     "output_type": "stream",
     "text": [
      "[{'machine': 3, 'learning': 2, 'is': 3, 'really': 2, 'fun': 5}, {'machine': 1, 'learning': 1, 'is': 2, 'awesome': 2}]\n"
     ]
    }
   ],
   "source": [
    "def generate_bow(reviews):\n",
    "    \"\"\"\n",
    "    Represents each review as Bag of Words (BoW). \n",
    "    Creates a list of (key,value) pairs, where a key is a unique word in the input sentence and the corresponding value is the number of occurences of this word\n",
    "    \n",
    "    Parameters: \n",
    "        reviews (List): List of sentences, where each sentence is also a list of words.\n",
    "    Returns:\n",
    "        bow_list (List): List of dictionaries, where each dictionary is a Bag of Words representing the corresponding sentence.\n",
    "    \n",
    "    \"\"\"\n",
    "    bow_list = []\n",
    "    for review in reviews:\n",
    "        bow_review = {}\n",
    "        for word in review:\n",
    "            if word not in bow_review.keys():\n",
    "                bow_review[word] = 1\n",
    "            else:\n",
    "                bow_review[word] += 1\n",
    "        bow_list.append(bow_review)\n",
    "    return bow_list\n",
    "\n",
    "dummy_reviews = [['machine', 'machine', 'learning', 'learning', 'machine', 'is', 'is', 'is', 'really', 'fun', 'really', 'fun', 'fun', 'fun', 'fun'],\n",
    "['machine', 'learning', 'is', 'is', 'awesome', 'awesome']]\n",
    "dummy_bow_list = generate_bow(dummy_reviews)\n",
    "print(dummy_bow_list)\n",
    "\n"
   ]
  },
  {
   "cell_type": "code",
   "execution_count": 17,
   "metadata": {},
   "outputs": [
    {
     "name": "stdout",
     "output_type": "stream",
     "text": [
      "Here is the Bag of Words representation of the example review we picked in the beginning:\n",
      " {'one': 1, 'of': 7, 'the': 16, 'other': 2, 'reviewers': 1, 'has': 1, 'mentioned': 1, 'that': 4, 'after': 1, 'watching': 2, 'just': 2, 'oz': 5, 'episode': 2, 'youll': 1, 'be': 2, 'hooked': 1, 'they': 1, 'are': 2, 'right': 2, 'as': 4, 'this': 3, 'is': 9, 'exactly': 1, 'what': 2, 'happened': 1, 'with': 5, 'me': 4, 'first': 2, 'thing': 1, 'struck': 2, 'about': 1, 'was': 3, 'its': 2, 'brutality': 1, 'and': 6, 'unflinching': 1, 'scenes': 1, 'violence': 4, 'which': 1, 'set': 1, 'in': 3, 'from': 1, 'word': 2, 'go': 1, 'trust': 1, 'not': 5, 'a': 3, 'show': 3, 'for': 5, 'faint': 1, 'hearted': 1, 'or': 3, 'timid': 1, 'pulls': 1, 'no': 1, 'punches': 1, 'regards': 1, 'to': 6, 'drugs': 1, 'sex': 1, 'hardcore': 1, 'classic': 1, 'use': 1, 'it': 6, 'called': 1, 'nickname': 1, 'given': 1, 'oswald': 1, 'maximum': 1, 'security': 1, 'state': 1, 'penitentary': 1, 'focuses': 1, 'mainly': 1, 'on': 3, 'emerald': 1, 'city': 2, 'an': 1, 'experimental': 1, 'section': 1, 'prison': 3, 'where': 2, 'all': 1, 'cells': 1, 'have': 1, 'glass': 1, 'fronts': 1, 'face': 1, 'inwards': 1, 'so': 2, 'privacy': 1, 'high': 2, 'agenda': 1, 'em': 1, 'home': 1, 'manyaryans': 1, 'muslims': 1, 'gangstas': 1, 'latinos': 1, 'christians': 1, 'italians': 1, 'irish': 1, 'moreso': 1, 'scuffles': 1, 'death': 1, 'stares': 1, 'dodgy': 1, 'dealings': 1, 'shady': 1, 'agreements': 1, 'never': 1, 'far': 1, 'away': 2, 'i': 6, 'would': 1, 'say': 2, 'main': 1, 'appeal': 1, 'due': 2, 'fact': 1, 'goes': 1, 'shows': 1, 'wouldnt': 1, 'dare': 1, 'forget': 3, 'pretty': 1, 'pictures': 1, 'painted': 1, 'mainstream': 1, 'audiences': 1, 'charm': 1, 'romanceoz': 1, 'does': 1, 'mess': 1, 'around': 1, 'ever': 1, 'saw': 1, 'nasty': 1, 'surreal': 1, 'could': 1, 'ready': 1, 'but': 2, 'watched': 1, 'more': 1, 'developed': 1, 'taste': 1, 'got': 1, 'accustomed': 1, 'levels': 1, 'graphic': 1, 'injustice': 1, 'crooked': 1, 'guards': 1, 'wholl': 2, 'sold': 1, 'out': 1, 'nickel': 1, 'inmates': 2, 'kill': 1, 'order': 1, 'get': 2, 'well': 1, 'mannered': 1, 'middle': 1, 'class': 1, 'being': 1, 'turned': 1, 'into': 1, 'bitches': 1, 'their': 1, 'lack': 1, 'street': 1, 'skills': 1, 'experience': 1, 'you': 2, 'may': 1, 'become': 1, 'comfortable': 1, 'uncomfortable': 1, 'viewingthats': 1, 'if': 1, 'can': 1, 'touch': 1, 'your': 1, 'darker': 1, 'side': 1}\n"
     ]
    }
   ],
   "source": [
    "## Let's test this:\n",
    "bow_list = generate_bow(reviews)\n",
    "print(\"Here is the Bag of Words representation of the example review we picked in the beginning:\\n {}\".format(bow_list[idx]))"
   ]
  },
  {
   "cell_type": "markdown",
   "metadata": {
    "tags": []
   },
   "source": [
    "### 3 Creating a common dictionary of unique words for the whole dataset\n",
    "\n",
    "In this part, given the BoW representations $B$ from the previous part and a list of stopwords $S$, you are asked to create a common dictionary $D$ that includes the unique words used in the whole dataset (without repetition), discarding the stopwords in $S$. The dictionary $D$ should map each word $\\hat{w}_k$ to an unique integer index $k$:  $D = \\{\\hat{w}_k : k\\}_{k=0}^{K-1}$. Note that the keys in dictionary $D$ can be arranged in any order. In other words, each word in dictionary is mapped into an unique integer k and order of words is not important.\n",
    "\n",
    "If our dataset was consisting of the two sentences provided in the beginning, the input BoW representation would look like:\n",
    "\n",
    "[{'machine': 3, 'learning': 2, 'is': 3, 'really': 2, 'fun': 5}, {'machine': 1, 'learning': 1, 'is': 2, 'awesome': 2}]\n",
    "\n",
    "We can take the stopwords as:\n",
    "\n",
    "['am', 'is', 'are']\n",
    "\n",
    "The output can look like:\n",
    "\n",
    "{'machine': 0, 'learning': 1, 'really': 2, 'fun': 3, 'awesome': 4 }\n",
    "\n",
    "Since the keys in dictionary can be stored in any order, for example, the output can also stored as:\n",
    "{'learning': 0, 'machine': 1, 'fun': 2, 'really': 3,   'awesome': 4} and in many other ways such that index associated with each word is unique.\n",
    "\n",
    "\n",
    "**This function will be implemented by you.**\n",
    "\n",
    "#### Implement the function below"
   ]
  },
  {
   "cell_type": "code",
   "execution_count": 18,
   "metadata": {},
   "outputs": [
    {
     "name": "stdout",
     "output_type": "stream",
     "text": [
      "{'machine': 4, 'learning': 3, 'really': 2, 'fun': 5, 'awesome': 2}\n"
     ]
    }
   ],
   "source": [
    "def construct_dictionary(bow_list, stopwords):\n",
    "    \"\"\"\n",
    "    Constructs a common dictionary consisting of the unique words found in the bow_list and omits the stop words. Keys of the dictionary are words and values are integer indices starting from 0 and increasing for each new entry in the dictionary.\n",
    "    \n",
    "    Parameters: \n",
    "        bow_list (List): List of BoW representations for N sentences.\n",
    "        stopwords (List): List of words to be omitted when constructing the dictionary\n",
    "    Returns:\n",
    "        dictionary (Dict): A dictionary of unique words, where the keys are the words and the values are integer indices of the words\n",
    "    \"\"\" \n",
    "    \n",
    "    ##YOUR CODE HERE\n",
    "    dictionary = {}\n",
    "    for bow in bow_list:\n",
    "        for word, count in bow.items():\n",
    "            if word not in stopwords:\n",
    "                dictionary[word] = dictionary.get(word,0) + count\n",
    "\n",
    "    return dictionary\n",
    "\n",
    "## Save results for grading\n",
    "save_student_results.construct_dictionary(locals())\n",
    "\n",
    "\n",
    "dummy_stopwords = ['am','is','are']\n",
    "dummy_dictionary = construct_dictionary(dummy_bow_list, dummy_stopwords)\n",
    "print(dummy_dictionary)"
   ]
  },
  {
   "cell_type": "code",
   "execution_count": 19,
   "metadata": {},
   "outputs": [],
   "source": [
    "stopwords = ['', 'i', 'me', 'my', 'myself', 'we', 'our', 'ours', 'ourselves',\n",
    "                 'you', \"you're\", \"you've\", \"you'll\", \"you'd\", 'your', 'yours', 'yourself', 'yourselves',\n",
    "                 'he', 'him', 'his', 'himself', 'she', \"she's\", 'her', 'hers', 'herself',\n",
    "                 'it', \"it's\", 'its', 'itself', 'they', 'them', 'their', 'theirs', 'themselves',\n",
    "                 'what', 'which', 'who', 'whom', 'this', 'that', \"that'll\", 'these', 'those',\n",
    "                 'am', 'is', 'are', 'was', 'were', 'be', 'been', 'being', 'have', 'has', 'had', 'having',\n",
    "                 'do', 'does', 'did', 'doing', 'a', 'an', 'the',\n",
    "                 'and', 'but', 'if', 'or', 'because', 'as', 'until', 'while',\n",
    "                 'of', 'at', 'by', 'for', 'with', 'about', 'against', 'between', 'into', 'through',\n",
    "                 'during', 'before', 'after', 'above', 'below', 'to', 'from', 'up', 'down',\n",
    "                 'in', 'out', 'on', 'off', 'over', 'under', 'again', 'further', 'then', 'once',\n",
    "                 'here', 'there', 'when', 'where', 'why', 'how', 'all', 'any', 'both', 'each',\n",
    "                 'few', 'more', 'most', 'other', 'some', 'such', 'no', 'nor', 'not', 'only',\n",
    "                 'own', 'same', 'so', 'than', 'too', 'very', 's', 't', 'can', 'will', 'just',\n",
    "                 'don', \"don't\", 'should', \"should've\", 'now', 'd', 'll', 'm', 'o', 're', 've', 'y', 'could', 'would',\n",
    "                 'ain', 'aren', \"aren't\", 'couldn', \"couldn't\", 'didn', \"didn't\", 'doesn', \"doesn't\",\n",
    "                 'hadn', \"hadn't\", 'hasn', \"hasn't\", 'haven', \"haven't\", 'isn', \"isn't\", 'ma', 'might',\n",
    "                 'mightn', \"mightn't\", 'mustn', \"mustn't\", 'needn', \"needn't\", 'shan', \"shan't\",\n",
    "                 'shouldn', \"shouldn't\", 'wasn', \"wasn't\", 'weren', \"weren't\", 'won', \"won't\", 'wouldn', \"wouldn't\"]\n",
    "\n",
    "dictionary = construct_dictionary(bow_list, stopwords)\n"
   ]
  },
  {
   "cell_type": "markdown",
   "metadata": {},
   "source": [
    "### 4. Vector representation of BoW\n",
    "\n",
    "In this part, you are asked to encode each review as a vector representation of the corresponding BoW. \n",
    "Given the dictionary $D$ and the BoW representation $B$, we first define $\\tilde{X} \\in \\mathbb{R}^{N \\times K}$ and let its rows $\\tilde{x}_i \\in \\mathbb{R}^{1 \\times K}$ be the unnormalized BoW representation vector corresponding to $b_i$. That is, $\\tilde{x}_i^{(k)}$ is the number of times word $\\hat{w}_k$ from the dictionary appears in review $r_i$. Hence,\n",
    "\n",
    "\n",
    "$$\n",
    "\\\n",
    "    \\tilde{x}_i^{(k)} =\n",
    "\\begin{cases}\n",
    "    b_i[\\hat{w}_k],& \\text{if } \\hat{w}_k \\text{is in the keys of $b_i$} \\\\\n",
    "    0,          & \\text{otherwise}\n",
    "\\end{cases}\n",
    "\\\n",
    "$$\n",
    "\n",
    "Note that $b_i$ are dictionaries that relate words to number of occurences. When a word $w$ is used in review $r_i$, its BoW representation $b_i$ stores the number of occurences of that word $w$ as $b[w]$.\n",
    "\n",
    "<!-- $$\n",
    "b_i[w] = m_{i}^{(v)}, \\text{if } \\exists v \\in \\{0,...,\\tilde{C}_i-1\\} \\text{ such that } w = \\tilde{w}_i^{(v)} \\in \\{\\tilde{w}_i^{(j)}\\}_{j=0}^{\\tilde{C}_i-1}\n",
    "$$\n",
    " -->\n",
    "Our aim then is to construct the normalized BoW representation array $X \\in \\mathbb{R}^{N \\times K}$, whose rows are $x_i \\in \\mathbb{R}^{1 \\times K}$, such that\n",
    "\n",
    "$$\n",
    "x_i^{(j)} = \\frac{\\tilde{x}_i^{(j)}} {\\sum_{\\ell=1}^{K} \\tilde{x}_i^{(\\ell)}}\n",
    "$$\n",
    "\n",
    "If we continue with the same example as before, using our dictionary:\n",
    "\n",
    "{'machine': 0, 'learning': 1, 'really':2, 'fun':3, 'awesome':4 }\n",
    "\n",
    "and the BoWs:\n",
    "\n",
    "[{'machine': 3, 'learning': 2, 'is': 3, 'really': 2, 'fun': 5}, {'machine': 1, 'learning': 1, 'is': 2, 'awesome': 2}]\n",
    "\n",
    "we obtain unnormalized BoWs vectors and normalized BoW vectors:\n",
    "\n",
    "[[3, 2, 2, 5, 0], [1, 1, 0, 0, 2]] -> [[3/12, 2/12, 2/12, 5/12, 0/12], [1/4, 1/4, 0/4, 0/4, 2/4]]\n",
    "\n",
    "Note that you should use the indices stored in values of $D$ to create the vector representations\n",
    "\n",
    "#### Implement the function below"
   ]
  },
  {
   "cell_type": "code",
   "execution_count": 20,
   "metadata": {},
   "outputs": [
    {
     "name": "stdout",
     "output_type": "stream",
     "text": [
      "[[0.         0.         0.28571429 0.28571429 0.42857143]\n",
      " [0.         0.         0.5        0.25       0.25      ]]\n"
     ]
    }
   ],
   "source": [
    "def get_bow_array(bow_list, dictionary):\n",
    "    \"\"\"\n",
    "    Encodes each sentence as a vector representation of the input Bag of Words.\n",
    "    \n",
    "    Parameters: \n",
    "        bow_list (List): List of N BoW dictionaries.\n",
    "        dictionary (Dict): A dictionary of K unique words, where keys are the words and values are integer indices in {0,...,K-1}\n",
    "    Returns:\n",
    "        X (np.array): Normalized BoW representation array of shape (N,K)\n",
    "    \"\"\" \n",
    "    \n",
    "    N = len(bow_list)\n",
    "    K = len(dictionary)\n",
    "    X_tilde = np.zeros((N, K))\n",
    "    # WRITE YOUR CODE HERE\n",
    "    \n",
    "    for word, j in dictionary.items():\n",
    "        for i in range(N):\n",
    "            bow = bow_list[i]\n",
    "            if word in bow and 0 <= i < N and 0 <= j < K:\n",
    "                X_tilde[i][j] = bow[word]\n",
    "    \n",
    "    X_weights = np.sum(X_tilde, axis = 1)\n",
    "    X = (X_tilde.T / X_weights).T\n",
    "\n",
    "    return X\n",
    "\n",
    "## Save results for grading\n",
    "save_student_results.get_bow_array(locals())\n",
    "\n",
    "dummy_bow_array = get_bow_array(dummy_bow_list, dummy_dictionary)\n",
    "print(dummy_bow_array)"
   ]
  },
  {
   "cell_type": "code",
   "execution_count": 21,
   "metadata": {},
   "outputs": [
    {
     "name": "stdout",
     "output_type": "stream",
     "text": [
      "[[0.         0.02325581 0.02325581 ... 0.         0.         0.        ]\n",
      " [0.         0.03225806 0.03225806 ... 0.         0.         0.        ]\n",
      " [0.         0.02941176 0.02941176 ... 0.         0.         0.        ]\n",
      " ...\n",
      " [0.         0.025      0.05       ... 0.         0.         0.        ]\n",
      " [0.         0.02222222 0.04444444 ... 0.         0.         0.        ]\n",
      " [0.         0.03225806 0.06451613 ... 0.         0.         0.        ]]\n"
     ]
    }
   ],
   "source": [
    "bow_array = get_bow_array(bow_list, dictionary)\n",
    "\n",
    "print(bow_array)"
   ]
  }
 ],
 "metadata": {
  "kernelspec": {
   "display_name": "Python 3 (ipykernel)",
   "language": "python",
   "name": "python3"
  },
  "language_info": {
   "codemirror_mode": {
    "name": "ipython",
    "version": 3
   },
   "file_extension": ".py",
   "mimetype": "text/x-python",
   "name": "python",
   "nbconvert_exporter": "python",
   "pygments_lexer": "ipython3",
   "version": "3.9.5"
  }
 },
 "nbformat": 4,
 "nbformat_minor": 4
}
